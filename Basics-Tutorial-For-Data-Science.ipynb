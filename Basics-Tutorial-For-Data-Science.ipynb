{
 "cells": [
  {
   "cell_type": "markdown",
   "metadata": {},
   "source": [
    "# Basics Tutorial for Data Science\n",
    "I prepared this Jupyter Notebook for the students of CS 6220 Data Mining Techniques at Northeastern University Seattle campus for Spring 2021 when I worked as one of the TAs for the course. And in this notebook I will be covering 3 major parts: (1) Python basics, (2) Pandas basics, and (3) simple plots with Matplotlib and Seaborn. \n",
    "\n",
    "This tutorial makes the assumption that the students have some knowledge to OOP languages such as Java (as used in the core course CS 5010 Programming Design Paradigms) or C#, and thus the Python basics will only be briefly touched.\n",
    "\n",
    "---\n",
    "## Part 0: Jupyter Notebook\n",
    "Jupyter Notebook is a powerful tool for working with Python, and it provides a quick way of interactive coding in the form of \"cell\". The major thing you need to know about this tool is that it can have multiple, seperated cells."
   ]
  },
  {
   "cell_type": "code",
   "execution_count": 1,
   "metadata": {},
   "outputs": [
    {
     "name": "stdout",
     "output_type": "stream",
     "text": [
      "Hey Northeastern Students!\n"
     ]
    }
   ],
   "source": [
    "# Print a statement\n",
    "print(\"Hey Northeastern Students!\")"
   ]
  },
  {
   "cell_type": "markdown",
   "metadata": {},
   "source": [
    "The output of the print statement in cell 1 is right beneath it. Note that, although the variables can be shared across the entire notebook, the code in each cell is run seperately. This allows you to divide your Python codes into small chunks and test specific part of the code without touching other parts.\n",
    "\n",
    "A short list of useful keyboard shortcuts that I used most often in Jupyter Notebook:\n",
    "<ul>\n",
    "    <li><code>Ctrl + Enter</code>: Run current cell.</li>\n",
    "    <li><code>Shift + Enter</code>: Run current cell, and move to the next cell.　←</li>\n",
    "    <li><code>Alt + Enter</code>: Run current cell, and insert a new cell below.</li>\n",
    "    <li><code>Ctrl + S</code>: Save checkpoint.　←</li>\n",
    "    <li><code>Esc + A</code>: Insert a new cell above current cell.　←</li>\n",
    "    <li><code>Esc + B</code>: Insert a new cell below current cell.　←</li>\n",
    "    <li><code>Esc + D + D</code> (press <code>D</code> twice): Delete current cell.　←</li>\n",
    "    <li><code>Up</code> and <code>Down</code> key: Move to the previous or next cell.　←</li>\n",
    "</ul>\n",
    "\n",
    "The keyboard shortcuts with \"←\" are what I always use. You can also check out for more keyboard shortcuts in this awesome blog post: <a href=\"https://towardsdatascience.com/jypyter-notebook-shortcuts-bf0101a98330\">Jupyter Notebook Shortcuts</a>\n",
    "\n",
    "A good practice for working with Jupyter Notebook is to seperate the part for code and commenting and the part for text explanation/analysis into different cells. For long text explanation or analysis (like this cell), make sure you change the cell type from <code>Code</code> to <code>Markdown</code> in the dropdown menu in the Jupyter Notebook panel above."
   ]
  },
  {
   "cell_type": "markdown",
   "metadata": {},
   "source": [
    "---\n",
    "## Part 1: Python Basics\n",
    "Python can be a little different from your typical Java/C# programming. Something to keep in mind about Python is that Python uses duck typing (\"If it walks like a duck and it quacks like a duck, then it must be a duck\") to figure out the object data type. This means that you don't have to declare the data type of a variable, and Python will automatically assign the variable's data type depending on the value you assign it to."
   ]
  },
  {
   "cell_type": "code",
   "execution_count": 2,
   "metadata": {},
   "outputs": [
    {
     "name": "stdout",
     "output_type": "stream",
     "text": [
      "<class 'int'>\n",
      "<class 'float'>\n",
      "<class 'str'>\n"
     ]
    }
   ],
   "source": [
    "my_int = 1\n",
    "my_float = 0.123\n",
    "my_string = \"hello world\"\n",
    "\n",
    "# Print the data type of the variable using type()\n",
    "print(type(my_int)) \n",
    "print(type(my_float))\n",
    "print(type(my_string))"
   ]
  },
  {
   "cell_type": "markdown",
   "metadata": {},
   "source": [
    "You can find the list of Python data types on W3School: <a href=\"https://www.w3schools.com/python/python_datatypes.asp\">Python Data Types</a>\n",
    "\n",
    "---\n",
    "Another special thing about Python's data type is that it can accept *negative* index when you want to access an item in a list or other data type."
   ]
  },
  {
   "cell_type": "code",
   "execution_count": 3,
   "metadata": {},
   "outputs": [
    {
     "name": "stdout",
     "output_type": "stream",
     "text": [
      "0\n",
      "5\n",
      "4\n"
     ]
    }
   ],
   "source": [
    "# Create a list of integers\n",
    "data_list = [0, 1, 2, 3, 4, 5]\n",
    "\n",
    "print(data_list[0])   # Print item at index 0\n",
    "print(data_list[-1])  # Print item at index -1, or the first item from the right of the list\n",
    "print(data_list[-2])  # Print item at index -2, or the second item from the right of the list"
   ]
  },
  {
   "cell_type": "markdown",
   "metadata": {},
   "source": [
    "You can also get a sliced section of the list using the colon symbol with a start (including) or end (excluding) index."
   ]
  },
  {
   "cell_type": "code",
   "execution_count": 4,
   "metadata": {},
   "outputs": [
    {
     "name": "stdout",
     "output_type": "stream",
     "text": [
      "[1, 2, 3, 4, 5]\n",
      "[1, 2, 3]\n",
      "[0, 1, 2, 3]\n"
     ]
    }
   ],
   "source": [
    "print(data_list[1:])  # Print items starting at index 1 till the end of the list\n",
    "print(data_list[1:4]) # Print items from index 1 to 3 (note that item at index 4 is not included)\n",
    "print(data_list[:4])  # Print items before index 4"
   ]
  },
  {
   "cell_type": "markdown",
   "metadata": {},
   "source": [
    "---\n",
    "### Tuples\n",
    "A special data type in Python that I'd like to introduce is the **tuple**. Tuple is like a list, but it's immutable/unchangeable. This means that once you create a tuple, you cannot change, add, or remove items from it.\n",
    "\n",
    "You can use () to create a tuple with a mix of data tpyes in it, or simply use the comma to seperate the items. For instance:"
   ]
  },
  {
   "cell_type": "code",
   "execution_count": 5,
   "metadata": {},
   "outputs": [
    {
     "data": {
      "text/plain": [
       "('item at index 0', 2, 'Northeastern', 0.123)"
      ]
     },
     "execution_count": 5,
     "metadata": {},
     "output_type": "execute_result"
    }
   ],
   "source": [
    "# Use () around the items to create a tuple\n",
    "(\"item at index 0\", 2, \"Northeastern\", 0.123)"
   ]
  },
  {
   "cell_type": "markdown",
   "metadata": {},
   "source": [
    "The tuple above has a mix of string, int, and float."
   ]
  },
  {
   "cell_type": "code",
   "execution_count": 6,
   "metadata": {},
   "outputs": [
    {
     "data": {
      "text/plain": [
       "('item at index 0', 2, 'Northeastern', 0.123)"
      ]
     },
     "execution_count": 6,
     "metadata": {},
     "output_type": "execute_result"
    }
   ],
   "source": [
    "# Use comma to seperate the items and create a tuple\n",
    "\"item at index 0\", 2, \"Northeastern\", 0.123"
   ]
  },
  {
   "cell_type": "code",
   "execution_count": 7,
   "metadata": {},
   "outputs": [
    {
     "data": {
      "text/plain": [
       "'Northeastern'"
      ]
     },
     "execution_count": 7,
     "metadata": {},
     "output_type": "execute_result"
    }
   ],
   "source": [
    "# Get the item at index 2\n",
    "data = (\"item at index 0\", 2, \"Northeastern\", 0.123)\n",
    "data[2]"
   ]
  },
  {
   "cell_type": "code",
   "execution_count": 8,
   "metadata": {},
   "outputs": [
    {
     "name": "stdout",
     "output_type": "stream",
     "text": [
      "item at index 0\n",
      "2\n",
      "Northeastern\n",
      "0.123\n"
     ]
    }
   ],
   "source": [
    "# Print all items in data\n",
    "for elem in data:\n",
    "    print(elem)"
   ]
  },
  {
   "cell_type": "code",
   "execution_count": 9,
   "metadata": {},
   "outputs": [
    {
     "name": "stdout",
     "output_type": "stream",
     "text": [
      "item at index 0\n",
      "2\n",
      "Northeastern\n",
      "0.123\n"
     ]
    }
   ],
   "source": [
    "# Alternative way to print all items\n",
    "for i in range(len(data)):\n",
    "    print(data[i])\n",
    "    \n",
    "# len(data) gives the length of the variable data\n",
    "# then, for i in range(len(data)) is essentially equivalent to Java's\n",
    "# for (int i = 0; i < data.length(); i++) {...}"
   ]
  },
  {
   "cell_type": "markdown",
   "metadata": {},
   "source": [
    "Tuple can be extremely handy in some cases. For instance, you can write a function that does multiple operations on an input and returns multiple items in a tuple. You can then access the items to do something else."
   ]
  },
  {
   "cell_type": "code",
   "execution_count": 10,
   "metadata": {},
   "outputs": [
    {
     "data": {
      "text/plain": [
       "tuple"
      ]
     },
     "execution_count": 10,
     "metadata": {},
     "output_type": "execute_result"
    }
   ],
   "source": [
    "# Function that returns a tuple\n",
    "def return_a_tuple(input_num):\n",
    "    first_item = input_num * 2\n",
    "    second_item = input_num * 3\n",
    "    third_item = input_num * 10\n",
    "    return first_item, second_item, third_item\n",
    "\n",
    "# Call on return_a_tuple(x) and print its data type\n",
    "new_data = return_a_tuple(5)\n",
    "type(new_data)"
   ]
  },
  {
   "cell_type": "code",
   "execution_count": 11,
   "metadata": {},
   "outputs": [
    {
     "name": "stdout",
     "output_type": "stream",
     "text": [
      "(10, 15, 50)\n",
      "10\n"
     ]
    }
   ],
   "source": [
    "print(new_data)      # Print the new_data\n",
    "print(new_data[0])   # Print the item at index 0"
   ]
  },
  {
   "cell_type": "markdown",
   "metadata": {},
   "source": [
    "---\n",
    "---\n",
    "## Part 2: Pandas\n",
    "Pandas is a library that allows you to analyze and manipulate data. In this section, we will briefly touch on some key things for working with Pandas."
   ]
  },
  {
   "cell_type": "code",
   "execution_count": 12,
   "metadata": {},
   "outputs": [],
   "source": [
    "# Import pandas\n",
    "import pandas as pd"
   ]
  },
  {
   "cell_type": "markdown",
   "metadata": {},
   "source": [
    "You can also import Pandas with a different name (i.e. *import pandas as the_pandas_library*). However, in most practices, it is named as the abbreviated \"pd\".\n",
    "\n",
    "The most common thing that you'll work with the Pandas is its DataFrame pbject. DataFrame can be seen as an excel sheet-like table that allows you to manipulate data.\n",
    "\n",
    "To create a DataFrame, we can use functions like ***read_csv(...)*** to read from a file. In the example below, I'm reading from a dataset that contains records of Seattle road weather information. (**ALSO, ALWAYS REMEMBER TO MAKE SURE THAT THE PATH TO YOUR FILE IS CORRECT!**)"
   ]
  },
  {
   "cell_type": "code",
   "execution_count": 13,
   "metadata": {},
   "outputs": [],
   "source": [
    "# Read in dataset\n",
    "df = pd.read_csv('datasets/seattle-road-weather/road-weather-information-stations.csv')"
   ]
  },
  {
   "cell_type": "markdown",
   "metadata": {},
   "source": [
    "---\n",
    "The first common thing to do (in the process of data understanding) is to use ***head()*** to take a quick peek at the data you are working with. \n",
    "\n",
    "By default, ***head()*** will give you the first 5 rows of data. You can give it a value, for example, 3 to view the first 3 rows or -3 to view all rows except the last 3 in your dataset."
   ]
  },
  {
   "cell_type": "code",
   "execution_count": 14,
   "metadata": {},
   "outputs": [
    {
     "data": {
      "text/html": [
       "<div>\n",
       "<style scoped>\n",
       "    .dataframe tbody tr th:only-of-type {\n",
       "        vertical-align: middle;\n",
       "    }\n",
       "\n",
       "    .dataframe tbody tr th {\n",
       "        vertical-align: top;\n",
       "    }\n",
       "\n",
       "    .dataframe thead th {\n",
       "        text-align: right;\n",
       "    }\n",
       "</style>\n",
       "<table border=\"1\" class=\"dataframe\">\n",
       "  <thead>\n",
       "    <tr style=\"text-align: right;\">\n",
       "      <th></th>\n",
       "      <th>StationName</th>\n",
       "      <th>StationLocation</th>\n",
       "      <th>DateTime</th>\n",
       "      <th>RecordId</th>\n",
       "      <th>RoadSurfaceTemperature</th>\n",
       "      <th>AirTemperature</th>\n",
       "    </tr>\n",
       "  </thead>\n",
       "  <tbody>\n",
       "    <tr>\n",
       "      <th>0</th>\n",
       "      <td>SpokaneSwingBridge</td>\n",
       "      <td>{'type': 'Point', 'coordinates': [-122.351743,...</td>\n",
       "      <td>2019-09-18T02:02:00.000</td>\n",
       "      <td>3500793</td>\n",
       "      <td>57.45</td>\n",
       "      <td>61.86</td>\n",
       "    </tr>\n",
       "    <tr>\n",
       "      <th>1</th>\n",
       "      <td>NE45StViaduct</td>\n",
       "      <td>{'type': 'Point', 'coordinates': [-122.301929,...</td>\n",
       "      <td>2019-09-18T15:12:00.000</td>\n",
       "      <td>3594561</td>\n",
       "      <td>78.25</td>\n",
       "      <td>68.40</td>\n",
       "    </tr>\n",
       "    <tr>\n",
       "      <th>2</th>\n",
       "      <td>AlbroPlaceAirportWay</td>\n",
       "      <td>{'type': 'Point', 'coordinates': [-122.314114,...</td>\n",
       "      <td>2019-09-17T02:17:00.000</td>\n",
       "      <td>451479</td>\n",
       "      <td>18.76</td>\n",
       "      <td>27.24</td>\n",
       "    </tr>\n",
       "    <tr>\n",
       "      <th>3</th>\n",
       "      <td>AlbroPlaceAirportWay</td>\n",
       "      <td>{'type': 'Point', 'coordinates': [-122.314114,...</td>\n",
       "      <td>2019-09-17T02:18:00.000</td>\n",
       "      <td>451480</td>\n",
       "      <td>18.77</td>\n",
       "      <td>27.28</td>\n",
       "    </tr>\n",
       "    <tr>\n",
       "      <th>4</th>\n",
       "      <td>AlbroPlaceAirportWay</td>\n",
       "      <td>{'type': 'Point', 'coordinates': [-122.314114,...</td>\n",
       "      <td>2019-09-17T02:19:00.000</td>\n",
       "      <td>451481</td>\n",
       "      <td>18.78</td>\n",
       "      <td>27.30</td>\n",
       "    </tr>\n",
       "  </tbody>\n",
       "</table>\n",
       "</div>"
      ],
      "text/plain": [
       "            StationName                                    StationLocation  \\\n",
       "0    SpokaneSwingBridge  {'type': 'Point', 'coordinates': [-122.351743,...   \n",
       "1         NE45StViaduct  {'type': 'Point', 'coordinates': [-122.301929,...   \n",
       "2  AlbroPlaceAirportWay  {'type': 'Point', 'coordinates': [-122.314114,...   \n",
       "3  AlbroPlaceAirportWay  {'type': 'Point', 'coordinates': [-122.314114,...   \n",
       "4  AlbroPlaceAirportWay  {'type': 'Point', 'coordinates': [-122.314114,...   \n",
       "\n",
       "                  DateTime  RecordId  RoadSurfaceTemperature  AirTemperature  \n",
       "0  2019-09-18T02:02:00.000   3500793                   57.45           61.86  \n",
       "1  2019-09-18T15:12:00.000   3594561                   78.25           68.40  \n",
       "2  2019-09-17T02:17:00.000    451479                   18.76           27.24  \n",
       "3  2019-09-17T02:18:00.000    451480                   18.77           27.28  \n",
       "4  2019-09-17T02:19:00.000    451481                   18.78           27.30  "
      ]
     },
     "execution_count": 14,
     "metadata": {},
     "output_type": "execute_result"
    }
   ],
   "source": [
    "# Display the first 5 rows of data\n",
    "df.head()"
   ]
  },
  {
   "cell_type": "code",
   "execution_count": 15,
   "metadata": {
    "scrolled": true
   },
   "outputs": [
    {
     "data": {
      "text/html": [
       "<div>\n",
       "<style scoped>\n",
       "    .dataframe tbody tr th:only-of-type {\n",
       "        vertical-align: middle;\n",
       "    }\n",
       "\n",
       "    .dataframe tbody tr th {\n",
       "        vertical-align: top;\n",
       "    }\n",
       "\n",
       "    .dataframe thead th {\n",
       "        text-align: right;\n",
       "    }\n",
       "</style>\n",
       "<table border=\"1\" class=\"dataframe\">\n",
       "  <thead>\n",
       "    <tr style=\"text-align: right;\">\n",
       "      <th></th>\n",
       "      <th>StationName</th>\n",
       "      <th>StationLocation</th>\n",
       "      <th>DateTime</th>\n",
       "      <th>RecordId</th>\n",
       "      <th>RoadSurfaceTemperature</th>\n",
       "      <th>AirTemperature</th>\n",
       "    </tr>\n",
       "  </thead>\n",
       "  <tbody>\n",
       "    <tr>\n",
       "      <th>0</th>\n",
       "      <td>SpokaneSwingBridge</td>\n",
       "      <td>{'type': 'Point', 'coordinates': [-122.351743,...</td>\n",
       "      <td>2019-09-18T02:02:00.000</td>\n",
       "      <td>3500793</td>\n",
       "      <td>57.45</td>\n",
       "      <td>61.86</td>\n",
       "    </tr>\n",
       "    <tr>\n",
       "      <th>1</th>\n",
       "      <td>NE45StViaduct</td>\n",
       "      <td>{'type': 'Point', 'coordinates': [-122.301929,...</td>\n",
       "      <td>2019-09-18T15:12:00.000</td>\n",
       "      <td>3594561</td>\n",
       "      <td>78.25</td>\n",
       "      <td>68.40</td>\n",
       "    </tr>\n",
       "    <tr>\n",
       "      <th>2</th>\n",
       "      <td>AlbroPlaceAirportWay</td>\n",
       "      <td>{'type': 'Point', 'coordinates': [-122.314114,...</td>\n",
       "      <td>2019-09-17T02:17:00.000</td>\n",
       "      <td>451479</td>\n",
       "      <td>18.76</td>\n",
       "      <td>27.24</td>\n",
       "    </tr>\n",
       "    <tr>\n",
       "      <th>3</th>\n",
       "      <td>AlbroPlaceAirportWay</td>\n",
       "      <td>{'type': 'Point', 'coordinates': [-122.314114,...</td>\n",
       "      <td>2019-09-17T02:18:00.000</td>\n",
       "      <td>451480</td>\n",
       "      <td>18.77</td>\n",
       "      <td>27.28</td>\n",
       "    </tr>\n",
       "    <tr>\n",
       "      <th>4</th>\n",
       "      <td>AlbroPlaceAirportWay</td>\n",
       "      <td>{'type': 'Point', 'coordinates': [-122.314114,...</td>\n",
       "      <td>2019-09-17T02:19:00.000</td>\n",
       "      <td>451481</td>\n",
       "      <td>18.78</td>\n",
       "      <td>27.30</td>\n",
       "    </tr>\n",
       "    <tr>\n",
       "      <th>...</th>\n",
       "      <td>...</td>\n",
       "      <td>...</td>\n",
       "      <td>...</td>\n",
       "      <td>...</td>\n",
       "      <td>...</td>\n",
       "      <td>...</td>\n",
       "    </tr>\n",
       "    <tr>\n",
       "      <th>1447974</th>\n",
       "      <td>NE45StViaduct</td>\n",
       "      <td>{'type': 'Point', 'coordinates': [-122.301929,...</td>\n",
       "      <td>2020-09-12T01:13:00.000</td>\n",
       "      <td>4112122</td>\n",
       "      <td>70.02</td>\n",
       "      <td>61.89</td>\n",
       "    </tr>\n",
       "    <tr>\n",
       "      <th>1447975</th>\n",
       "      <td>NE45StViaduct</td>\n",
       "      <td>{'type': 'Point', 'coordinates': [-122.301929,...</td>\n",
       "      <td>2020-09-12T01:14:00.000</td>\n",
       "      <td>4112123</td>\n",
       "      <td>69.99</td>\n",
       "      <td>61.86</td>\n",
       "    </tr>\n",
       "    <tr>\n",
       "      <th>1447976</th>\n",
       "      <td>NE45StViaduct</td>\n",
       "      <td>{'type': 'Point', 'coordinates': [-122.301929,...</td>\n",
       "      <td>2020-09-12T01:15:00.000</td>\n",
       "      <td>4112124</td>\n",
       "      <td>69.98</td>\n",
       "      <td>61.92</td>\n",
       "    </tr>\n",
       "    <tr>\n",
       "      <th>1447977</th>\n",
       "      <td>NE45StViaduct</td>\n",
       "      <td>{'type': 'Point', 'coordinates': [-122.301929,...</td>\n",
       "      <td>2020-09-12T01:16:00.000</td>\n",
       "      <td>4112125</td>\n",
       "      <td>69.95</td>\n",
       "      <td>61.97</td>\n",
       "    </tr>\n",
       "    <tr>\n",
       "      <th>1447978</th>\n",
       "      <td>NE45StViaduct</td>\n",
       "      <td>{'type': 'Point', 'coordinates': [-122.301929,...</td>\n",
       "      <td>2020-09-12T01:17:00.000</td>\n",
       "      <td>4112126</td>\n",
       "      <td>69.93</td>\n",
       "      <td>61.95</td>\n",
       "    </tr>\n",
       "  </tbody>\n",
       "</table>\n",
       "<p>1447979 rows × 6 columns</p>\n",
       "</div>"
      ],
      "text/plain": [
       "                  StationName  \\\n",
       "0          SpokaneSwingBridge   \n",
       "1               NE45StViaduct   \n",
       "2        AlbroPlaceAirportWay   \n",
       "3        AlbroPlaceAirportWay   \n",
       "4        AlbroPlaceAirportWay   \n",
       "...                       ...   \n",
       "1447974         NE45StViaduct   \n",
       "1447975         NE45StViaduct   \n",
       "1447976         NE45StViaduct   \n",
       "1447977         NE45StViaduct   \n",
       "1447978         NE45StViaduct   \n",
       "\n",
       "                                           StationLocation  \\\n",
       "0        {'type': 'Point', 'coordinates': [-122.351743,...   \n",
       "1        {'type': 'Point', 'coordinates': [-122.301929,...   \n",
       "2        {'type': 'Point', 'coordinates': [-122.314114,...   \n",
       "3        {'type': 'Point', 'coordinates': [-122.314114,...   \n",
       "4        {'type': 'Point', 'coordinates': [-122.314114,...   \n",
       "...                                                    ...   \n",
       "1447974  {'type': 'Point', 'coordinates': [-122.301929,...   \n",
       "1447975  {'type': 'Point', 'coordinates': [-122.301929,...   \n",
       "1447976  {'type': 'Point', 'coordinates': [-122.301929,...   \n",
       "1447977  {'type': 'Point', 'coordinates': [-122.301929,...   \n",
       "1447978  {'type': 'Point', 'coordinates': [-122.301929,...   \n",
       "\n",
       "                        DateTime  RecordId  RoadSurfaceTemperature  \\\n",
       "0        2019-09-18T02:02:00.000   3500793                   57.45   \n",
       "1        2019-09-18T15:12:00.000   3594561                   78.25   \n",
       "2        2019-09-17T02:17:00.000    451479                   18.76   \n",
       "3        2019-09-17T02:18:00.000    451480                   18.77   \n",
       "4        2019-09-17T02:19:00.000    451481                   18.78   \n",
       "...                          ...       ...                     ...   \n",
       "1447974  2020-09-12T01:13:00.000   4112122                   70.02   \n",
       "1447975  2020-09-12T01:14:00.000   4112123                   69.99   \n",
       "1447976  2020-09-12T01:15:00.000   4112124                   69.98   \n",
       "1447977  2020-09-12T01:16:00.000   4112125                   69.95   \n",
       "1447978  2020-09-12T01:17:00.000   4112126                   69.93   \n",
       "\n",
       "         AirTemperature  \n",
       "0                 61.86  \n",
       "1                 68.40  \n",
       "2                 27.24  \n",
       "3                 27.28  \n",
       "4                 27.30  \n",
       "...                 ...  \n",
       "1447974           61.89  \n",
       "1447975           61.86  \n",
       "1447976           61.92  \n",
       "1447977           61.97  \n",
       "1447978           61.95  \n",
       "\n",
       "[1447979 rows x 6 columns]"
      ]
     },
     "execution_count": 15,
     "metadata": {},
     "output_type": "execute_result"
    }
   ],
   "source": [
    "# Display all rows except the last 3\n",
    "df.head(-3)"
   ]
  },
  {
   "cell_type": "code",
   "execution_count": 16,
   "metadata": {},
   "outputs": [
    {
     "data": {
      "text/html": [
       "<div>\n",
       "<style scoped>\n",
       "    .dataframe tbody tr th:only-of-type {\n",
       "        vertical-align: middle;\n",
       "    }\n",
       "\n",
       "    .dataframe tbody tr th {\n",
       "        vertical-align: top;\n",
       "    }\n",
       "\n",
       "    .dataframe thead th {\n",
       "        text-align: right;\n",
       "    }\n",
       "</style>\n",
       "<table border=\"1\" class=\"dataframe\">\n",
       "  <thead>\n",
       "    <tr style=\"text-align: right;\">\n",
       "      <th></th>\n",
       "      <th>StationName</th>\n",
       "      <th>StationLocation</th>\n",
       "      <th>DateTime</th>\n",
       "      <th>RecordId</th>\n",
       "      <th>RoadSurfaceTemperature</th>\n",
       "      <th>AirTemperature</th>\n",
       "    </tr>\n",
       "  </thead>\n",
       "  <tbody>\n",
       "    <tr>\n",
       "      <th>1447977</th>\n",
       "      <td>NE45StViaduct</td>\n",
       "      <td>{'type': 'Point', 'coordinates': [-122.301929,...</td>\n",
       "      <td>2020-09-12T01:16:00.000</td>\n",
       "      <td>4112125</td>\n",
       "      <td>69.95</td>\n",
       "      <td>61.97</td>\n",
       "    </tr>\n",
       "    <tr>\n",
       "      <th>1447978</th>\n",
       "      <td>NE45StViaduct</td>\n",
       "      <td>{'type': 'Point', 'coordinates': [-122.301929,...</td>\n",
       "      <td>2020-09-12T01:17:00.000</td>\n",
       "      <td>4112126</td>\n",
       "      <td>69.93</td>\n",
       "      <td>61.95</td>\n",
       "    </tr>\n",
       "    <tr>\n",
       "      <th>1447979</th>\n",
       "      <td>NE45StViaduct</td>\n",
       "      <td>{'type': 'Point', 'coordinates': [-122.301929,...</td>\n",
       "      <td>2020-09-12T01:18:00.000</td>\n",
       "      <td>4112127</td>\n",
       "      <td>69.90</td>\n",
       "      <td>61.94</td>\n",
       "    </tr>\n",
       "    <tr>\n",
       "      <th>1447980</th>\n",
       "      <td>NE45StViaduct</td>\n",
       "      <td>{'type': 'Point', 'coordinates': [-122.301929,...</td>\n",
       "      <td>2020-09-12T01:19:00.000</td>\n",
       "      <td>4112128</td>\n",
       "      <td>69.88</td>\n",
       "      <td>61.86</td>\n",
       "    </tr>\n",
       "    <tr>\n",
       "      <th>1447981</th>\n",
       "      <td>NE45StViaduct</td>\n",
       "      <td>{'type': 'Point', 'coordinates': [-122.301929,...</td>\n",
       "      <td>2020-09-12T01:20:00.000</td>\n",
       "      <td>4112129</td>\n",
       "      <td>69.85</td>\n",
       "      <td>61.86</td>\n",
       "    </tr>\n",
       "  </tbody>\n",
       "</table>\n",
       "</div>"
      ],
      "text/plain": [
       "           StationName                                    StationLocation  \\\n",
       "1447977  NE45StViaduct  {'type': 'Point', 'coordinates': [-122.301929,...   \n",
       "1447978  NE45StViaduct  {'type': 'Point', 'coordinates': [-122.301929,...   \n",
       "1447979  NE45StViaduct  {'type': 'Point', 'coordinates': [-122.301929,...   \n",
       "1447980  NE45StViaduct  {'type': 'Point', 'coordinates': [-122.301929,...   \n",
       "1447981  NE45StViaduct  {'type': 'Point', 'coordinates': [-122.301929,...   \n",
       "\n",
       "                        DateTime  RecordId  RoadSurfaceTemperature  \\\n",
       "1447977  2020-09-12T01:16:00.000   4112125                   69.95   \n",
       "1447978  2020-09-12T01:17:00.000   4112126                   69.93   \n",
       "1447979  2020-09-12T01:18:00.000   4112127                   69.90   \n",
       "1447980  2020-09-12T01:19:00.000   4112128                   69.88   \n",
       "1447981  2020-09-12T01:20:00.000   4112129                   69.85   \n",
       "\n",
       "         AirTemperature  \n",
       "1447977           61.97  \n",
       "1447978           61.95  \n",
       "1447979           61.94  \n",
       "1447980           61.86  \n",
       "1447981           61.86  "
      ]
     },
     "execution_count": 16,
     "metadata": {},
     "output_type": "execute_result"
    }
   ],
   "source": [
    "# You can also use tail() to display the last N rows of data\n",
    "df.tail()"
   ]
  },
  {
   "cell_type": "markdown",
   "metadata": {},
   "source": [
    "---\n",
    "The ***info()*** function is very useful for providing a quick insight into the type of data you are working with."
   ]
  },
  {
   "cell_type": "code",
   "execution_count": 17,
   "metadata": {},
   "outputs": [
    {
     "name": "stdout",
     "output_type": "stream",
     "text": [
      "<class 'pandas.core.frame.DataFrame'>\n",
      "RangeIndex: 1447982 entries, 0 to 1447981\n",
      "Data columns (total 6 columns):\n",
      " #   Column                  Non-Null Count    Dtype  \n",
      "---  ------                  --------------    -----  \n",
      " 0   StationName             1447982 non-null  object \n",
      " 1   StationLocation         1447982 non-null  object \n",
      " 2   DateTime                1447982 non-null  object \n",
      " 3   RecordId                1447982 non-null  int64  \n",
      " 4   RoadSurfaceTemperature  1447982 non-null  float64\n",
      " 5   AirTemperature          1447982 non-null  float64\n",
      "dtypes: float64(2), int64(1), object(3)\n",
      "memory usage: 66.3+ MB\n"
     ]
    }
   ],
   "source": [
    "df.info()"
   ]
  },
  {
   "cell_type": "markdown",
   "metadata": {},
   "source": [
    "In this dataset that we are working with, we have a total of 6 columns and ~1.4 million rows of data. The data type for each column is in the \"Dtype\" column."
   ]
  },
  {
   "cell_type": "markdown",
   "metadata": {},
   "source": [
    "---\n",
    "The ***describe()*** function will provide statistics insights on columns with numeric values (not for object, string, or others). Depending on the type of data you work with, it can let you take a quick glance into important indicators like mean, standard deviation, min and max, and percentiles **over the entire dataset**."
   ]
  },
  {
   "cell_type": "code",
   "execution_count": 18,
   "metadata": {},
   "outputs": [
    {
     "data": {
      "text/html": [
       "<div>\n",
       "<style scoped>\n",
       "    .dataframe tbody tr th:only-of-type {\n",
       "        vertical-align: middle;\n",
       "    }\n",
       "\n",
       "    .dataframe tbody tr th {\n",
       "        vertical-align: top;\n",
       "    }\n",
       "\n",
       "    .dataframe thead th {\n",
       "        text-align: right;\n",
       "    }\n",
       "</style>\n",
       "<table border=\"1\" class=\"dataframe\">\n",
       "  <thead>\n",
       "    <tr style=\"text-align: right;\">\n",
       "      <th></th>\n",
       "      <th>RecordId</th>\n",
       "      <th>RoadSurfaceTemperature</th>\n",
       "      <th>AirTemperature</th>\n",
       "    </tr>\n",
       "  </thead>\n",
       "  <tbody>\n",
       "    <tr>\n",
       "      <th>count</th>\n",
       "      <td>1.447982e+06</td>\n",
       "      <td>1.447982e+06</td>\n",
       "      <td>1.447982e+06</td>\n",
       "    </tr>\n",
       "    <tr>\n",
       "      <th>mean</th>\n",
       "      <td>3.284559e+06</td>\n",
       "      <td>6.395634e+01</td>\n",
       "      <td>6.013960e+01</td>\n",
       "    </tr>\n",
       "    <tr>\n",
       "      <th>std</th>\n",
       "      <td>1.133215e+06</td>\n",
       "      <td>2.556146e+01</td>\n",
       "      <td>1.996678e+01</td>\n",
       "    </tr>\n",
       "    <tr>\n",
       "      <th>min</th>\n",
       "      <td>4.513420e+05</td>\n",
       "      <td>-4.250000e+00</td>\n",
       "      <td>-4.740000e+00</td>\n",
       "    </tr>\n",
       "    <tr>\n",
       "      <th>25%</th>\n",
       "      <td>2.887554e+06</td>\n",
       "      <td>6.198000e+01</td>\n",
       "      <td>5.697000e+01</td>\n",
       "    </tr>\n",
       "    <tr>\n",
       "      <th>50%</th>\n",
       "      <td>3.960102e+06</td>\n",
       "      <td>7.007000e+01</td>\n",
       "      <td>6.432000e+01</td>\n",
       "    </tr>\n",
       "    <tr>\n",
       "      <th>75%</th>\n",
       "      <td>4.021402e+06</td>\n",
       "      <td>7.800000e+01</td>\n",
       "      <td>7.210000e+01</td>\n",
       "    </tr>\n",
       "    <tr>\n",
       "      <th>max</th>\n",
       "      <td>4.112129e+06</td>\n",
       "      <td>1.190000e+02</td>\n",
       "      <td>1.190000e+02</td>\n",
       "    </tr>\n",
       "  </tbody>\n",
       "</table>\n",
       "</div>"
      ],
      "text/plain": [
       "           RecordId  RoadSurfaceTemperature  AirTemperature\n",
       "count  1.447982e+06            1.447982e+06    1.447982e+06\n",
       "mean   3.284559e+06            6.395634e+01    6.013960e+01\n",
       "std    1.133215e+06            2.556146e+01    1.996678e+01\n",
       "min    4.513420e+05           -4.250000e+00   -4.740000e+00\n",
       "25%    2.887554e+06            6.198000e+01    5.697000e+01\n",
       "50%    3.960102e+06            7.007000e+01    6.432000e+01\n",
       "75%    4.021402e+06            7.800000e+01    7.210000e+01\n",
       "max    4.112129e+06            1.190000e+02    1.190000e+02"
      ]
     },
     "execution_count": 18,
     "metadata": {},
     "output_type": "execute_result"
    }
   ],
   "source": [
    "df.describe()"
   ]
  },
  {
   "cell_type": "markdown",
   "metadata": {},
   "source": [
    "---\n",
    "You can select specific column from a dataframe to work with. For instance, if I want to work with the column \"*StationName*\", I can do:"
   ]
  },
  {
   "cell_type": "code",
   "execution_count": 19,
   "metadata": {},
   "outputs": [
    {
     "data": {
      "text/plain": [
       "0            SpokaneSwingBridge\n",
       "1                 NE45StViaduct\n",
       "2          AlbroPlaceAirportWay\n",
       "3          AlbroPlaceAirportWay\n",
       "4          AlbroPlaceAirportWay\n",
       "                   ...         \n",
       "1447977           NE45StViaduct\n",
       "1447978           NE45StViaduct\n",
       "1447979           NE45StViaduct\n",
       "1447980           NE45StViaduct\n",
       "1447981           NE45StViaduct\n",
       "Name: StationName, Length: 1447982, dtype: object"
      ]
     },
     "execution_count": 19,
     "metadata": {},
     "output_type": "execute_result"
    }
   ],
   "source": [
    "df['StationName']"
   ]
  },
  {
   "cell_type": "markdown",
   "metadata": {},
   "source": [
    "Although the above call looks like a table or list of some sort, it's a special object type called Series in the Pandas and can be used similarly to a list. If you want to work with the specific column(s) as an actual list type, you can use the ***to_list()*** function."
   ]
  },
  {
   "cell_type": "code",
   "execution_count": 20,
   "metadata": {},
   "outputs": [
    {
     "data": {
      "text/plain": [
       "pandas.core.series.Series"
      ]
     },
     "execution_count": 20,
     "metadata": {},
     "output_type": "execute_result"
    }
   ],
   "source": [
    "type(df['StationName'])"
   ]
  },
  {
   "cell_type": "code",
   "execution_count": 21,
   "metadata": {},
   "outputs": [
    {
     "data": {
      "text/plain": [
       "'NE45StViaduct'"
      ]
     },
     "execution_count": 21,
     "metadata": {},
     "output_type": "execute_result"
    }
   ],
   "source": [
    "# Print the 2nd item in the series\n",
    "df['StationName'][1]"
   ]
  },
  {
   "cell_type": "code",
   "execution_count": 22,
   "metadata": {},
   "outputs": [
    {
     "data": {
      "text/plain": [
       "['SpokaneSwingBridge',\n",
       " 'NE45StViaduct',\n",
       " 'AlbroPlaceAirportWay',\n",
       " 'AlbroPlaceAirportWay',\n",
       " 'AlbroPlaceAirportWay']"
      ]
     },
     "execution_count": 22,
     "metadata": {},
     "output_type": "execute_result"
    }
   ],
   "source": [
    "# Convert the selected column into a list (and print first 5)\n",
    "df['StationName'].to_list()[0:5]"
   ]
  },
  {
   "cell_type": "markdown",
   "metadata": {},
   "source": [
    "Pandas also lets you select rows of data with matching values in a specific columns."
   ]
  },
  {
   "cell_type": "code",
   "execution_count": 23,
   "metadata": {},
   "outputs": [
    {
     "data": {
      "text/html": [
       "<div>\n",
       "<style scoped>\n",
       "    .dataframe tbody tr th:only-of-type {\n",
       "        vertical-align: middle;\n",
       "    }\n",
       "\n",
       "    .dataframe tbody tr th {\n",
       "        vertical-align: top;\n",
       "    }\n",
       "\n",
       "    .dataframe thead th {\n",
       "        text-align: right;\n",
       "    }\n",
       "</style>\n",
       "<table border=\"1\" class=\"dataframe\">\n",
       "  <thead>\n",
       "    <tr style=\"text-align: right;\">\n",
       "      <th></th>\n",
       "      <th>StationName</th>\n",
       "      <th>StationLocation</th>\n",
       "      <th>DateTime</th>\n",
       "      <th>RecordId</th>\n",
       "      <th>RoadSurfaceTemperature</th>\n",
       "      <th>AirTemperature</th>\n",
       "    </tr>\n",
       "  </thead>\n",
       "  <tbody>\n",
       "    <tr>\n",
       "      <th>21</th>\n",
       "      <td>RooseveltWay_NE80thSt</td>\n",
       "      <td>{'type': 'Point', 'coordinates': [-122.31765, ...</td>\n",
       "      <td>2019-09-17T02:16:00.000</td>\n",
       "      <td>3586352</td>\n",
       "      <td>61.13</td>\n",
       "      <td>61.13</td>\n",
       "    </tr>\n",
       "    <tr>\n",
       "      <th>22</th>\n",
       "      <td>RooseveltWay_NE80thSt</td>\n",
       "      <td>{'type': 'Point', 'coordinates': [-122.31765, ...</td>\n",
       "      <td>2019-09-17T02:17:00.000</td>\n",
       "      <td>3586353</td>\n",
       "      <td>61.13</td>\n",
       "      <td>61.13</td>\n",
       "    </tr>\n",
       "    <tr>\n",
       "      <th>23</th>\n",
       "      <td>RooseveltWay_NE80thSt</td>\n",
       "      <td>{'type': 'Point', 'coordinates': [-122.31765, ...</td>\n",
       "      <td>2019-09-17T02:18:00.000</td>\n",
       "      <td>3586354</td>\n",
       "      <td>61.13</td>\n",
       "      <td>61.13</td>\n",
       "    </tr>\n",
       "    <tr>\n",
       "      <th>24</th>\n",
       "      <td>RooseveltWay_NE80thSt</td>\n",
       "      <td>{'type': 'Point', 'coordinates': [-122.31765, ...</td>\n",
       "      <td>2019-09-17T02:19:00.000</td>\n",
       "      <td>3586355</td>\n",
       "      <td>61.13</td>\n",
       "      <td>61.13</td>\n",
       "    </tr>\n",
       "    <tr>\n",
       "      <th>25</th>\n",
       "      <td>RooseveltWay_NE80thSt</td>\n",
       "      <td>{'type': 'Point', 'coordinates': [-122.31765, ...</td>\n",
       "      <td>2019-09-17T02:20:00.000</td>\n",
       "      <td>3586356</td>\n",
       "      <td>61.13</td>\n",
       "      <td>61.13</td>\n",
       "    </tr>\n",
       "    <tr>\n",
       "      <th>...</th>\n",
       "      <td>...</td>\n",
       "      <td>...</td>\n",
       "      <td>...</td>\n",
       "      <td>...</td>\n",
       "      <td>...</td>\n",
       "      <td>...</td>\n",
       "    </tr>\n",
       "    <tr>\n",
       "      <th>1447923</th>\n",
       "      <td>RooseveltWay_NE80thSt</td>\n",
       "      <td>{'type': 'Point', 'coordinates': [-122.31765, ...</td>\n",
       "      <td>2020-09-12T01:16:00.000</td>\n",
       "      <td>4106132</td>\n",
       "      <td>67.85</td>\n",
       "      <td>67.85</td>\n",
       "    </tr>\n",
       "    <tr>\n",
       "      <th>1447926</th>\n",
       "      <td>RooseveltWay_NE80thSt</td>\n",
       "      <td>{'type': 'Point', 'coordinates': [-122.31765, ...</td>\n",
       "      <td>2020-09-12T01:17:00.000</td>\n",
       "      <td>4106133</td>\n",
       "      <td>67.83</td>\n",
       "      <td>67.83</td>\n",
       "    </tr>\n",
       "    <tr>\n",
       "      <th>1447929</th>\n",
       "      <td>RooseveltWay_NE80thSt</td>\n",
       "      <td>{'type': 'Point', 'coordinates': [-122.31765, ...</td>\n",
       "      <td>2020-09-12T01:18:00.000</td>\n",
       "      <td>4106134</td>\n",
       "      <td>67.81</td>\n",
       "      <td>67.81</td>\n",
       "    </tr>\n",
       "    <tr>\n",
       "      <th>1447932</th>\n",
       "      <td>RooseveltWay_NE80thSt</td>\n",
       "      <td>{'type': 'Point', 'coordinates': [-122.31765, ...</td>\n",
       "      <td>2020-09-12T01:19:00.000</td>\n",
       "      <td>4106135</td>\n",
       "      <td>67.80</td>\n",
       "      <td>67.80</td>\n",
       "    </tr>\n",
       "    <tr>\n",
       "      <th>1447935</th>\n",
       "      <td>RooseveltWay_NE80thSt</td>\n",
       "      <td>{'type': 'Point', 'coordinates': [-122.31765, ...</td>\n",
       "      <td>2020-09-12T01:20:00.000</td>\n",
       "      <td>4106136</td>\n",
       "      <td>67.78</td>\n",
       "      <td>67.78</td>\n",
       "    </tr>\n",
       "  </tbody>\n",
       "</table>\n",
       "<p>237053 rows × 6 columns</p>\n",
       "</div>"
      ],
      "text/plain": [
       "                   StationName  \\\n",
       "21       RooseveltWay_NE80thSt   \n",
       "22       RooseveltWay_NE80thSt   \n",
       "23       RooseveltWay_NE80thSt   \n",
       "24       RooseveltWay_NE80thSt   \n",
       "25       RooseveltWay_NE80thSt   \n",
       "...                        ...   \n",
       "1447923  RooseveltWay_NE80thSt   \n",
       "1447926  RooseveltWay_NE80thSt   \n",
       "1447929  RooseveltWay_NE80thSt   \n",
       "1447932  RooseveltWay_NE80thSt   \n",
       "1447935  RooseveltWay_NE80thSt   \n",
       "\n",
       "                                           StationLocation  \\\n",
       "21       {'type': 'Point', 'coordinates': [-122.31765, ...   \n",
       "22       {'type': 'Point', 'coordinates': [-122.31765, ...   \n",
       "23       {'type': 'Point', 'coordinates': [-122.31765, ...   \n",
       "24       {'type': 'Point', 'coordinates': [-122.31765, ...   \n",
       "25       {'type': 'Point', 'coordinates': [-122.31765, ...   \n",
       "...                                                    ...   \n",
       "1447923  {'type': 'Point', 'coordinates': [-122.31765, ...   \n",
       "1447926  {'type': 'Point', 'coordinates': [-122.31765, ...   \n",
       "1447929  {'type': 'Point', 'coordinates': [-122.31765, ...   \n",
       "1447932  {'type': 'Point', 'coordinates': [-122.31765, ...   \n",
       "1447935  {'type': 'Point', 'coordinates': [-122.31765, ...   \n",
       "\n",
       "                        DateTime  RecordId  RoadSurfaceTemperature  \\\n",
       "21       2019-09-17T02:16:00.000   3586352                   61.13   \n",
       "22       2019-09-17T02:17:00.000   3586353                   61.13   \n",
       "23       2019-09-17T02:18:00.000   3586354                   61.13   \n",
       "24       2019-09-17T02:19:00.000   3586355                   61.13   \n",
       "25       2019-09-17T02:20:00.000   3586356                   61.13   \n",
       "...                          ...       ...                     ...   \n",
       "1447923  2020-09-12T01:16:00.000   4106132                   67.85   \n",
       "1447926  2020-09-12T01:17:00.000   4106133                   67.83   \n",
       "1447929  2020-09-12T01:18:00.000   4106134                   67.81   \n",
       "1447932  2020-09-12T01:19:00.000   4106135                   67.80   \n",
       "1447935  2020-09-12T01:20:00.000   4106136                   67.78   \n",
       "\n",
       "         AirTemperature  \n",
       "21                61.13  \n",
       "22                61.13  \n",
       "23                61.13  \n",
       "24                61.13  \n",
       "25                61.13  \n",
       "...                 ...  \n",
       "1447923           67.85  \n",
       "1447926           67.83  \n",
       "1447929           67.81  \n",
       "1447932           67.80  \n",
       "1447935           67.78  \n",
       "\n",
       "[237053 rows x 6 columns]"
      ]
     },
     "execution_count": 23,
     "metadata": {},
     "output_type": "execute_result"
    }
   ],
   "source": [
    "# Selects all rows where the StationName matches 'RooseveltWay_NE80thSt'\n",
    "df[(df['StationName'] == 'RooseveltWay_NE80thSt')]"
   ]
  },
  {
   "cell_type": "code",
   "execution_count": 24,
   "metadata": {
    "scrolled": false
   },
   "outputs": [
    {
     "data": {
      "text/html": [
       "<div>\n",
       "<style scoped>\n",
       "    .dataframe tbody tr th:only-of-type {\n",
       "        vertical-align: middle;\n",
       "    }\n",
       "\n",
       "    .dataframe tbody tr th {\n",
       "        vertical-align: top;\n",
       "    }\n",
       "\n",
       "    .dataframe thead th {\n",
       "        text-align: right;\n",
       "    }\n",
       "</style>\n",
       "<table border=\"1\" class=\"dataframe\">\n",
       "  <thead>\n",
       "    <tr style=\"text-align: right;\">\n",
       "      <th></th>\n",
       "      <th>StationName</th>\n",
       "      <th>StationLocation</th>\n",
       "      <th>DateTime</th>\n",
       "      <th>RecordId</th>\n",
       "      <th>RoadSurfaceTemperature</th>\n",
       "      <th>AirTemperature</th>\n",
       "    </tr>\n",
       "  </thead>\n",
       "  <tbody>\n",
       "    <tr>\n",
       "      <th>29900</th>\n",
       "      <td>RooseveltWay_NE80thSt</td>\n",
       "      <td>{'type': 'Point', 'coordinates': [-122.31765, ...</td>\n",
       "      <td>2020-05-29T03:49:00.000</td>\n",
       "      <td>3953645</td>\n",
       "      <td>67.85</td>\n",
       "      <td>67.85</td>\n",
       "    </tr>\n",
       "    <tr>\n",
       "      <th>73832</th>\n",
       "      <td>RooseveltWay_NE80thSt</td>\n",
       "      <td>{'type': 'Point', 'coordinates': [-122.31765, ...</td>\n",
       "      <td>2020-05-29T03:49:00.000</td>\n",
       "      <td>3953645</td>\n",
       "      <td>67.85</td>\n",
       "      <td>67.85</td>\n",
       "    </tr>\n",
       "    <tr>\n",
       "      <th>116839</th>\n",
       "      <td>RooseveltWay_NE80thSt</td>\n",
       "      <td>{'type': 'Point', 'coordinates': [-122.31765, ...</td>\n",
       "      <td>2020-05-31T16:34:00.000</td>\n",
       "      <td>3957290</td>\n",
       "      <td>67.85</td>\n",
       "      <td>67.85</td>\n",
       "    </tr>\n",
       "    <tr>\n",
       "      <th>145721</th>\n",
       "      <td>RooseveltWay_NE80thSt</td>\n",
       "      <td>{'type': 'Point', 'coordinates': [-122.31765, ...</td>\n",
       "      <td>2020-06-02T08:50:00.000</td>\n",
       "      <td>3959706</td>\n",
       "      <td>67.85</td>\n",
       "      <td>67.85</td>\n",
       "    </tr>\n",
       "    <tr>\n",
       "      <th>145836</th>\n",
       "      <td>RooseveltWay_NE80thSt</td>\n",
       "      <td>{'type': 'Point', 'coordinates': [-122.31765, ...</td>\n",
       "      <td>2020-06-02T08:50:00.000</td>\n",
       "      <td>3959706</td>\n",
       "      <td>67.85</td>\n",
       "      <td>67.85</td>\n",
       "    </tr>\n",
       "    <tr>\n",
       "      <th>...</th>\n",
       "      <td>...</td>\n",
       "      <td>...</td>\n",
       "      <td>...</td>\n",
       "      <td>...</td>\n",
       "      <td>...</td>\n",
       "      <td>...</td>\n",
       "    </tr>\n",
       "    <tr>\n",
       "      <th>1371183</th>\n",
       "      <td>RooseveltWay_NE80thSt</td>\n",
       "      <td>{'type': 'Point', 'coordinates': [-122.31765, ...</td>\n",
       "      <td>2020-09-05T22:42:00.000</td>\n",
       "      <td>4097338</td>\n",
       "      <td>67.85</td>\n",
       "      <td>67.85</td>\n",
       "    </tr>\n",
       "    <tr>\n",
       "      <th>1371184</th>\n",
       "      <td>RooseveltWay_NE80thSt</td>\n",
       "      <td>{'type': 'Point', 'coordinates': [-122.31765, ...</td>\n",
       "      <td>2020-09-05T22:43:00.000</td>\n",
       "      <td>4097339</td>\n",
       "      <td>67.85</td>\n",
       "      <td>67.85</td>\n",
       "    </tr>\n",
       "    <tr>\n",
       "      <th>1384113</th>\n",
       "      <td>RooseveltWay_NE80thSt</td>\n",
       "      <td>{'type': 'Point', 'coordinates': [-122.31765, ...</td>\n",
       "      <td>2020-09-07T03:21:00.000</td>\n",
       "      <td>4099057</td>\n",
       "      <td>67.85</td>\n",
       "      <td>67.85</td>\n",
       "    </tr>\n",
       "    <tr>\n",
       "      <th>1409461</th>\n",
       "      <td>RooseveltWay_NE80thSt</td>\n",
       "      <td>{'type': 'Point', 'coordinates': [-122.31765, ...</td>\n",
       "      <td>2020-09-09T01:45:00.000</td>\n",
       "      <td>4101841</td>\n",
       "      <td>67.85</td>\n",
       "      <td>67.85</td>\n",
       "    </tr>\n",
       "    <tr>\n",
       "      <th>1447923</th>\n",
       "      <td>RooseveltWay_NE80thSt</td>\n",
       "      <td>{'type': 'Point', 'coordinates': [-122.31765, ...</td>\n",
       "      <td>2020-09-12T01:16:00.000</td>\n",
       "      <td>4106132</td>\n",
       "      <td>67.85</td>\n",
       "      <td>67.85</td>\n",
       "    </tr>\n",
       "  </tbody>\n",
       "</table>\n",
       "<p>87 rows × 6 columns</p>\n",
       "</div>"
      ],
      "text/plain": [
       "                   StationName  \\\n",
       "29900    RooseveltWay_NE80thSt   \n",
       "73832    RooseveltWay_NE80thSt   \n",
       "116839   RooseveltWay_NE80thSt   \n",
       "145721   RooseveltWay_NE80thSt   \n",
       "145836   RooseveltWay_NE80thSt   \n",
       "...                        ...   \n",
       "1371183  RooseveltWay_NE80thSt   \n",
       "1371184  RooseveltWay_NE80thSt   \n",
       "1384113  RooseveltWay_NE80thSt   \n",
       "1409461  RooseveltWay_NE80thSt   \n",
       "1447923  RooseveltWay_NE80thSt   \n",
       "\n",
       "                                           StationLocation  \\\n",
       "29900    {'type': 'Point', 'coordinates': [-122.31765, ...   \n",
       "73832    {'type': 'Point', 'coordinates': [-122.31765, ...   \n",
       "116839   {'type': 'Point', 'coordinates': [-122.31765, ...   \n",
       "145721   {'type': 'Point', 'coordinates': [-122.31765, ...   \n",
       "145836   {'type': 'Point', 'coordinates': [-122.31765, ...   \n",
       "...                                                    ...   \n",
       "1371183  {'type': 'Point', 'coordinates': [-122.31765, ...   \n",
       "1371184  {'type': 'Point', 'coordinates': [-122.31765, ...   \n",
       "1384113  {'type': 'Point', 'coordinates': [-122.31765, ...   \n",
       "1409461  {'type': 'Point', 'coordinates': [-122.31765, ...   \n",
       "1447923  {'type': 'Point', 'coordinates': [-122.31765, ...   \n",
       "\n",
       "                        DateTime  RecordId  RoadSurfaceTemperature  \\\n",
       "29900    2020-05-29T03:49:00.000   3953645                   67.85   \n",
       "73832    2020-05-29T03:49:00.000   3953645                   67.85   \n",
       "116839   2020-05-31T16:34:00.000   3957290                   67.85   \n",
       "145721   2020-06-02T08:50:00.000   3959706                   67.85   \n",
       "145836   2020-06-02T08:50:00.000   3959706                   67.85   \n",
       "...                          ...       ...                     ...   \n",
       "1371183  2020-09-05T22:42:00.000   4097338                   67.85   \n",
       "1371184  2020-09-05T22:43:00.000   4097339                   67.85   \n",
       "1384113  2020-09-07T03:21:00.000   4099057                   67.85   \n",
       "1409461  2020-09-09T01:45:00.000   4101841                   67.85   \n",
       "1447923  2020-09-12T01:16:00.000   4106132                   67.85   \n",
       "\n",
       "         AirTemperature  \n",
       "29900             67.85  \n",
       "73832             67.85  \n",
       "116839            67.85  \n",
       "145721            67.85  \n",
       "145836            67.85  \n",
       "...                 ...  \n",
       "1371183           67.85  \n",
       "1371184           67.85  \n",
       "1384113           67.85  \n",
       "1409461           67.85  \n",
       "1447923           67.85  \n",
       "\n",
       "[87 rows x 6 columns]"
      ]
     },
     "execution_count": 24,
     "metadata": {},
     "output_type": "execute_result"
    }
   ],
   "source": [
    "# You can also match by multiple columns\n",
    "df[(df['StationName'] == 'RooseveltWay_NE80thSt') & (df['RoadSurfaceTemperature'] == 67.85)]"
   ]
  },
  {
   "cell_type": "markdown",
   "metadata": {},
   "source": [
    "---\n",
    "In some cases, I would use ***value_counts()*** to check on the count of each value in the column. It can be handy, say, if you want to get a general idea about the number of rows for each value."
   ]
  },
  {
   "cell_type": "code",
   "execution_count": 25,
   "metadata": {},
   "outputs": [
    {
     "data": {
      "text/plain": [
       "RooseveltWay_NE80thSt        237053\n",
       "35thAveSW_SWMyrtleSt         236735\n",
       "NE45StViaduct                235075\n",
       "AlbroPlaceAirportWay         231265\n",
       "AuroraBridge                 228280\n",
       "MagnoliaBridge               220474\n",
       "HarborAveUpperNorthBridge     40706\n",
       "SpokaneSwingBridge            18394\n",
       "Name: StationName, dtype: int64"
      ]
     },
     "execution_count": 25,
     "metadata": {},
     "output_type": "execute_result"
    }
   ],
   "source": [
    "df['StationName'].value_counts()"
   ]
  },
  {
   "cell_type": "markdown",
   "metadata": {},
   "source": [
    "---\n",
    "The ***groupby*** function is often used to calculate aggregated values. In the example below, I grouped the dataframe by \"*StationName*\", selected the \"*RoadSurfaceTemperature*\" column, and compute the average for each station."
   ]
  },
  {
   "cell_type": "code",
   "execution_count": 26,
   "metadata": {},
   "outputs": [
    {
     "data": {
      "text/html": [
       "<div>\n",
       "<style scoped>\n",
       "    .dataframe tbody tr th:only-of-type {\n",
       "        vertical-align: middle;\n",
       "    }\n",
       "\n",
       "    .dataframe tbody tr th {\n",
       "        vertical-align: top;\n",
       "    }\n",
       "\n",
       "    .dataframe thead th {\n",
       "        text-align: right;\n",
       "    }\n",
       "</style>\n",
       "<table border=\"1\" class=\"dataframe\">\n",
       "  <thead>\n",
       "    <tr style=\"text-align: right;\">\n",
       "      <th></th>\n",
       "      <th>StationName</th>\n",
       "      <th>RoadSurfaceTemperature</th>\n",
       "    </tr>\n",
       "  </thead>\n",
       "  <tbody>\n",
       "    <tr>\n",
       "      <th>0</th>\n",
       "      <td>35thAveSW_SWMyrtleSt</td>\n",
       "      <td>71.805437</td>\n",
       "    </tr>\n",
       "    <tr>\n",
       "      <th>1</th>\n",
       "      <td>AlbroPlaceAirportWay</td>\n",
       "      <td>10.416326</td>\n",
       "    </tr>\n",
       "    <tr>\n",
       "      <th>2</th>\n",
       "      <td>AuroraBridge</td>\n",
       "      <td>72.468655</td>\n",
       "    </tr>\n",
       "    <tr>\n",
       "      <th>3</th>\n",
       "      <td>HarborAveUpperNorthBridge</td>\n",
       "      <td>69.842870</td>\n",
       "    </tr>\n",
       "    <tr>\n",
       "      <th>4</th>\n",
       "      <td>MagnoliaBridge</td>\n",
       "      <td>75.485530</td>\n",
       "    </tr>\n",
       "    <tr>\n",
       "      <th>5</th>\n",
       "      <td>NE45StViaduct</td>\n",
       "      <td>76.755887</td>\n",
       "    </tr>\n",
       "    <tr>\n",
       "      <th>6</th>\n",
       "      <td>RooseveltWay_NE80thSt</td>\n",
       "      <td>75.219188</td>\n",
       "    </tr>\n",
       "    <tr>\n",
       "      <th>7</th>\n",
       "      <td>SpokaneSwingBridge</td>\n",
       "      <td>70.498099</td>\n",
       "    </tr>\n",
       "  </tbody>\n",
       "</table>\n",
       "</div>"
      ],
      "text/plain": [
       "                 StationName  RoadSurfaceTemperature\n",
       "0       35thAveSW_SWMyrtleSt               71.805437\n",
       "1       AlbroPlaceAirportWay               10.416326\n",
       "2               AuroraBridge               72.468655\n",
       "3  HarborAveUpperNorthBridge               69.842870\n",
       "4             MagnoliaBridge               75.485530\n",
       "5              NE45StViaduct               76.755887\n",
       "6      RooseveltWay_NE80thSt               75.219188\n",
       "7         SpokaneSwingBridge               70.498099"
      ]
     },
     "execution_count": 26,
     "metadata": {},
     "output_type": "execute_result"
    }
   ],
   "source": [
    "# Group by StationName and compute mean on RoadSurfaceTemperature\n",
    "avg_road_temp = df.groupby(['StationName'], as_index=False)['RoadSurfaceTemperature'].mean()\n",
    "avg_road_temp"
   ]
  },
  {
   "cell_type": "markdown",
   "metadata": {},
   "source": [
    "Pandas also lets you sort the values by a specific column using ***sort_values()***, which takes in the column(s) you want to sort by and the sorting order. By default, it sorts in ascending order (from small to large). To sort in descending order, set the \"*ascending*\" paramter to *False*."
   ]
  },
  {
   "cell_type": "code",
   "execution_count": 27,
   "metadata": {},
   "outputs": [
    {
     "data": {
      "text/html": [
       "<div>\n",
       "<style scoped>\n",
       "    .dataframe tbody tr th:only-of-type {\n",
       "        vertical-align: middle;\n",
       "    }\n",
       "\n",
       "    .dataframe tbody tr th {\n",
       "        vertical-align: top;\n",
       "    }\n",
       "\n",
       "    .dataframe thead th {\n",
       "        text-align: right;\n",
       "    }\n",
       "</style>\n",
       "<table border=\"1\" class=\"dataframe\">\n",
       "  <thead>\n",
       "    <tr style=\"text-align: right;\">\n",
       "      <th></th>\n",
       "      <th>StationName</th>\n",
       "      <th>RoadSurfaceTemperature</th>\n",
       "    </tr>\n",
       "  </thead>\n",
       "  <tbody>\n",
       "    <tr>\n",
       "      <th>1</th>\n",
       "      <td>AlbroPlaceAirportWay</td>\n",
       "      <td>10.416326</td>\n",
       "    </tr>\n",
       "    <tr>\n",
       "      <th>3</th>\n",
       "      <td>HarborAveUpperNorthBridge</td>\n",
       "      <td>69.842870</td>\n",
       "    </tr>\n",
       "    <tr>\n",
       "      <th>7</th>\n",
       "      <td>SpokaneSwingBridge</td>\n",
       "      <td>70.498099</td>\n",
       "    </tr>\n",
       "    <tr>\n",
       "      <th>0</th>\n",
       "      <td>35thAveSW_SWMyrtleSt</td>\n",
       "      <td>71.805437</td>\n",
       "    </tr>\n",
       "    <tr>\n",
       "      <th>2</th>\n",
       "      <td>AuroraBridge</td>\n",
       "      <td>72.468655</td>\n",
       "    </tr>\n",
       "    <tr>\n",
       "      <th>6</th>\n",
       "      <td>RooseveltWay_NE80thSt</td>\n",
       "      <td>75.219188</td>\n",
       "    </tr>\n",
       "    <tr>\n",
       "      <th>4</th>\n",
       "      <td>MagnoliaBridge</td>\n",
       "      <td>75.485530</td>\n",
       "    </tr>\n",
       "    <tr>\n",
       "      <th>5</th>\n",
       "      <td>NE45StViaduct</td>\n",
       "      <td>76.755887</td>\n",
       "    </tr>\n",
       "  </tbody>\n",
       "</table>\n",
       "</div>"
      ],
      "text/plain": [
       "                 StationName  RoadSurfaceTemperature\n",
       "1       AlbroPlaceAirportWay               10.416326\n",
       "3  HarborAveUpperNorthBridge               69.842870\n",
       "7         SpokaneSwingBridge               70.498099\n",
       "0       35thAveSW_SWMyrtleSt               71.805437\n",
       "2               AuroraBridge               72.468655\n",
       "6      RooseveltWay_NE80thSt               75.219188\n",
       "4             MagnoliaBridge               75.485530\n",
       "5              NE45StViaduct               76.755887"
      ]
     },
     "execution_count": 27,
     "metadata": {},
     "output_type": "execute_result"
    }
   ],
   "source": [
    "# Sort the mean in ascending order\n",
    "avg_road_temp = df.groupby(['StationName'], as_index=False)['RoadSurfaceTemperature'].mean().sort_values(['RoadSurfaceTemperature'])\n",
    "avg_road_temp"
   ]
  },
  {
   "cell_type": "code",
   "execution_count": 28,
   "metadata": {},
   "outputs": [
    {
     "data": {
      "text/html": [
       "<div>\n",
       "<style scoped>\n",
       "    .dataframe tbody tr th:only-of-type {\n",
       "        vertical-align: middle;\n",
       "    }\n",
       "\n",
       "    .dataframe tbody tr th {\n",
       "        vertical-align: top;\n",
       "    }\n",
       "\n",
       "    .dataframe thead th {\n",
       "        text-align: right;\n",
       "    }\n",
       "</style>\n",
       "<table border=\"1\" class=\"dataframe\">\n",
       "  <thead>\n",
       "    <tr style=\"text-align: right;\">\n",
       "      <th></th>\n",
       "      <th>StationName</th>\n",
       "      <th>RoadSurfaceTemperature</th>\n",
       "    </tr>\n",
       "  </thead>\n",
       "  <tbody>\n",
       "    <tr>\n",
       "      <th>5</th>\n",
       "      <td>NE45StViaduct</td>\n",
       "      <td>76.755887</td>\n",
       "    </tr>\n",
       "    <tr>\n",
       "      <th>4</th>\n",
       "      <td>MagnoliaBridge</td>\n",
       "      <td>75.485530</td>\n",
       "    </tr>\n",
       "    <tr>\n",
       "      <th>6</th>\n",
       "      <td>RooseveltWay_NE80thSt</td>\n",
       "      <td>75.219188</td>\n",
       "    </tr>\n",
       "    <tr>\n",
       "      <th>2</th>\n",
       "      <td>AuroraBridge</td>\n",
       "      <td>72.468655</td>\n",
       "    </tr>\n",
       "    <tr>\n",
       "      <th>0</th>\n",
       "      <td>35thAveSW_SWMyrtleSt</td>\n",
       "      <td>71.805437</td>\n",
       "    </tr>\n",
       "    <tr>\n",
       "      <th>7</th>\n",
       "      <td>SpokaneSwingBridge</td>\n",
       "      <td>70.498099</td>\n",
       "    </tr>\n",
       "    <tr>\n",
       "      <th>3</th>\n",
       "      <td>HarborAveUpperNorthBridge</td>\n",
       "      <td>69.842870</td>\n",
       "    </tr>\n",
       "    <tr>\n",
       "      <th>1</th>\n",
       "      <td>AlbroPlaceAirportWay</td>\n",
       "      <td>10.416326</td>\n",
       "    </tr>\n",
       "  </tbody>\n",
       "</table>\n",
       "</div>"
      ],
      "text/plain": [
       "                 StationName  RoadSurfaceTemperature\n",
       "5              NE45StViaduct               76.755887\n",
       "4             MagnoliaBridge               75.485530\n",
       "6      RooseveltWay_NE80thSt               75.219188\n",
       "2               AuroraBridge               72.468655\n",
       "0       35thAveSW_SWMyrtleSt               71.805437\n",
       "7         SpokaneSwingBridge               70.498099\n",
       "3  HarborAveUpperNorthBridge               69.842870\n",
       "1       AlbroPlaceAirportWay               10.416326"
      ]
     },
     "execution_count": 28,
     "metadata": {},
     "output_type": "execute_result"
    }
   ],
   "source": [
    "# Sort the mean in descending order\n",
    "avg_road_temp = df.groupby(['StationName'], as_index=False)['RoadSurfaceTemperature'].mean().sort_values(['RoadSurfaceTemperature'], ascending=False)\n",
    "avg_road_temp"
   ]
  },
  {
   "cell_type": "markdown",
   "metadata": {},
   "source": [
    "---\n",
    "The ***loc[]*** and ***iloc[]*** operations are used to fetch data by the given index value and number, respectively. They are fed with the parameters [row, column], as demonstrated in the examples below."
   ]
  },
  {
   "cell_type": "code",
   "execution_count": 29,
   "metadata": {},
   "outputs": [
    {
     "data": {
      "text/plain": [
       "StationName                                                   NE45StViaduct\n",
       "StationLocation           {'type': 'Point', 'coordinates': [-122.301929,...\n",
       "DateTime                                            2019-09-18T15:12:00.000\n",
       "RecordId                                                            3594561\n",
       "RoadSurfaceTemperature                                                78.25\n",
       "AirTemperature                                                         68.4\n",
       "Name: 1, dtype: object"
      ]
     },
     "execution_count": 29,
     "metadata": {},
     "output_type": "execute_result"
    }
   ],
   "source": [
    "# Get all data with row index value = 1\n",
    "df.loc[1]"
   ]
  },
  {
   "cell_type": "code",
   "execution_count": 30,
   "metadata": {},
   "outputs": [
    {
     "data": {
      "text/plain": [
       "StationName                                              SpokaneSwingBridge\n",
       "StationLocation           {'type': 'Point', 'coordinates': [-122.351743,...\n",
       "DateTime                                            2019-09-18T02:02:00.000\n",
       "RecordId                                                            3500793\n",
       "RoadSurfaceTemperature                                                57.45\n",
       "AirTemperature                                                        61.86\n",
       "Name: 0, dtype: object"
      ]
     },
     "execution_count": 30,
     "metadata": {},
     "output_type": "execute_result"
    }
   ],
   "source": [
    "# Get all data in row index 0\n",
    "df.iloc[0]"
   ]
  },
  {
   "cell_type": "code",
   "execution_count": 31,
   "metadata": {},
   "outputs": [
    {
     "data": {
      "text/html": [
       "<div>\n",
       "<style scoped>\n",
       "    .dataframe tbody tr th:only-of-type {\n",
       "        vertical-align: middle;\n",
       "    }\n",
       "\n",
       "    .dataframe tbody tr th {\n",
       "        vertical-align: top;\n",
       "    }\n",
       "\n",
       "    .dataframe thead th {\n",
       "        text-align: right;\n",
       "    }\n",
       "</style>\n",
       "<table border=\"1\" class=\"dataframe\">\n",
       "  <thead>\n",
       "    <tr style=\"text-align: right;\">\n",
       "      <th></th>\n",
       "      <th>AirTemperature</th>\n",
       "    </tr>\n",
       "  </thead>\n",
       "  <tbody>\n",
       "    <tr>\n",
       "      <th>0</th>\n",
       "      <td>61.86</td>\n",
       "    </tr>\n",
       "    <tr>\n",
       "      <th>1</th>\n",
       "      <td>68.40</td>\n",
       "    </tr>\n",
       "    <tr>\n",
       "      <th>2</th>\n",
       "      <td>27.24</td>\n",
       "    </tr>\n",
       "    <tr>\n",
       "      <th>3</th>\n",
       "      <td>27.28</td>\n",
       "    </tr>\n",
       "    <tr>\n",
       "      <th>4</th>\n",
       "      <td>27.30</td>\n",
       "    </tr>\n",
       "  </tbody>\n",
       "</table>\n",
       "</div>"
      ],
      "text/plain": [
       "   AirTemperature\n",
       "0           61.86\n",
       "1           68.40\n",
       "2           27.24\n",
       "3           27.28\n",
       "4           27.30"
      ]
     },
     "execution_count": 31,
     "metadata": {},
     "output_type": "execute_result"
    }
   ],
   "source": [
    "# Get all data from column where the column index value is 'AirTemperature'\n",
    "df.loc[:, ['AirTemperature']].head()"
   ]
  },
  {
   "cell_type": "code",
   "execution_count": 32,
   "metadata": {},
   "outputs": [
    {
     "data": {
      "text/html": [
       "<div>\n",
       "<style scoped>\n",
       "    .dataframe tbody tr th:only-of-type {\n",
       "        vertical-align: middle;\n",
       "    }\n",
       "\n",
       "    .dataframe tbody tr th {\n",
       "        vertical-align: top;\n",
       "    }\n",
       "\n",
       "    .dataframe thead th {\n",
       "        text-align: right;\n",
       "    }\n",
       "</style>\n",
       "<table border=\"1\" class=\"dataframe\">\n",
       "  <thead>\n",
       "    <tr style=\"text-align: right;\">\n",
       "      <th></th>\n",
       "      <th>DateTime</th>\n",
       "    </tr>\n",
       "  </thead>\n",
       "  <tbody>\n",
       "    <tr>\n",
       "      <th>0</th>\n",
       "      <td>2019-09-18T02:02:00.000</td>\n",
       "    </tr>\n",
       "    <tr>\n",
       "      <th>1</th>\n",
       "      <td>2019-09-18T15:12:00.000</td>\n",
       "    </tr>\n",
       "    <tr>\n",
       "      <th>2</th>\n",
       "      <td>2019-09-17T02:17:00.000</td>\n",
       "    </tr>\n",
       "    <tr>\n",
       "      <th>3</th>\n",
       "      <td>2019-09-17T02:18:00.000</td>\n",
       "    </tr>\n",
       "    <tr>\n",
       "      <th>4</th>\n",
       "      <td>2019-09-17T02:19:00.000</td>\n",
       "    </tr>\n",
       "  </tbody>\n",
       "</table>\n",
       "</div>"
      ],
      "text/plain": [
       "                  DateTime\n",
       "0  2019-09-18T02:02:00.000\n",
       "1  2019-09-18T15:12:00.000\n",
       "2  2019-09-17T02:17:00.000\n",
       "3  2019-09-17T02:18:00.000\n",
       "4  2019-09-17T02:19:00.000"
      ]
     },
     "execution_count": 32,
     "metadata": {},
     "output_type": "execute_result"
    }
   ],
   "source": [
    "# Get all data at column index 2\n",
    "df.iloc[:, [2]].head()"
   ]
  },
  {
   "cell_type": "markdown",
   "metadata": {},
   "source": [
    "Combining the ideas above, to select a specific section from the dataframe, you can give the [row, column] some values."
   ]
  },
  {
   "cell_type": "code",
   "execution_count": 33,
   "metadata": {},
   "outputs": [
    {
     "data": {
      "text/html": [
       "<div>\n",
       "<style scoped>\n",
       "    .dataframe tbody tr th:only-of-type {\n",
       "        vertical-align: middle;\n",
       "    }\n",
       "\n",
       "    .dataframe tbody tr th {\n",
       "        vertical-align: top;\n",
       "    }\n",
       "\n",
       "    .dataframe thead th {\n",
       "        text-align: right;\n",
       "    }\n",
       "</style>\n",
       "<table border=\"1\" class=\"dataframe\">\n",
       "  <thead>\n",
       "    <tr style=\"text-align: right;\">\n",
       "      <th></th>\n",
       "      <th>AirTemperature</th>\n",
       "    </tr>\n",
       "  </thead>\n",
       "  <tbody>\n",
       "    <tr>\n",
       "      <th>0</th>\n",
       "      <td>61.86</td>\n",
       "    </tr>\n",
       "    <tr>\n",
       "      <th>1</th>\n",
       "      <td>68.40</td>\n",
       "    </tr>\n",
       "  </tbody>\n",
       "</table>\n",
       "</div>"
      ],
      "text/plain": [
       "   AirTemperature\n",
       "0           61.86\n",
       "1           68.40"
      ]
     },
     "execution_count": 33,
     "metadata": {},
     "output_type": "execute_result"
    }
   ],
   "source": [
    "# Select dataframe where row index value = 0 and 1, and column index value = 'AirTemperature'\n",
    "df.loc[[0,1], ['AirTemperature']]"
   ]
  },
  {
   "cell_type": "code",
   "execution_count": 34,
   "metadata": {},
   "outputs": [
    {
     "data": {
      "text/html": [
       "<div>\n",
       "<style scoped>\n",
       "    .dataframe tbody tr th:only-of-type {\n",
       "        vertical-align: middle;\n",
       "    }\n",
       "\n",
       "    .dataframe tbody tr th {\n",
       "        vertical-align: top;\n",
       "    }\n",
       "\n",
       "    .dataframe thead th {\n",
       "        text-align: right;\n",
       "    }\n",
       "</style>\n",
       "<table border=\"1\" class=\"dataframe\">\n",
       "  <thead>\n",
       "    <tr style=\"text-align: right;\">\n",
       "      <th></th>\n",
       "      <th>DateTime</th>\n",
       "    </tr>\n",
       "  </thead>\n",
       "  <tbody>\n",
       "    <tr>\n",
       "      <th>0</th>\n",
       "      <td>2019-09-18T02:02:00.000</td>\n",
       "    </tr>\n",
       "  </tbody>\n",
       "</table>\n",
       "</div>"
      ],
      "text/plain": [
       "                  DateTime\n",
       "0  2019-09-18T02:02:00.000"
      ]
     },
     "execution_count": 34,
     "metadata": {},
     "output_type": "execute_result"
    }
   ],
   "source": [
    "# Select the single dataframe where the row index = 0 and column index = 2\n",
    "df.iloc[[0], [2]]"
   ]
  },
  {
   "cell_type": "markdown",
   "metadata": {},
   "source": [
    "One trick here is that, if you want to select the specific value instead of the dataframe, you can use ***iloc[]*** without the [] around your specified value:"
   ]
  },
  {
   "cell_type": "code",
   "execution_count": 35,
   "metadata": {},
   "outputs": [
    {
     "data": {
      "text/plain": [
       "'2019-09-18T02:02:00.000'"
      ]
     },
     "execution_count": 35,
     "metadata": {},
     "output_type": "execute_result"
    }
   ],
   "source": [
    "df.iloc[0, 2]"
   ]
  },
  {
   "cell_type": "markdown",
   "metadata": {},
   "source": [
    "Make sure to look up for more tricks on using ***loc[]*** and ***iloc[]***!"
   ]
  },
  {
   "cell_type": "markdown",
   "metadata": {},
   "source": [
    "---\n",
    "---\n",
    "## Part 3: Plots with Matplotlib and Seaborn\n",
    "Two common plotting libraries are Matplotlib and Seaborn, and they are powerful for data visualization tasks. In this section, I'll be briefly covering some of the basics."
   ]
  },
  {
   "cell_type": "code",
   "execution_count": 36,
   "metadata": {},
   "outputs": [],
   "source": [
    "# Import numpy, matplotlib, and seaborn\n",
    "import numpy as np\n",
    "import matplotlib.pyplot as plt\n",
    "%matplotlib inline\n",
    "import seaborn as sns"
   ]
  },
  {
   "cell_type": "markdown",
   "metadata": {},
   "source": [
    "---\n",
    "### Histogram\n",
    "Histogram is the simpliest way to show the distribution of data. In the following example, I simply use ***hist()*** on the dataframe to make a histogram graph for \"*AirTemperature*\" and \"*RoadSurfaceTemperature*\"."
   ]
  },
  {
   "cell_type": "code",
   "execution_count": 37,
   "metadata": {},
   "outputs": [
    {
     "data": {
      "text/plain": [
       "array([[<matplotlib.axes._subplots.AxesSubplot object at 0x0000021D36B38820>,\n",
       "        <matplotlib.axes._subplots.AxesSubplot object at 0x0000021D36B83D00>]],\n",
       "      dtype=object)"
      ]
     },
     "execution_count": 37,
     "metadata": {},
     "output_type": "execute_result"
    },
    {
     "data": {
      "image/png": "[encoded data removed]",
      "text/plain": [
       "<Figure size 720x360 with 2 Axes>"
      ]
     },
     "metadata": {
      "needs_background": "light"
     },
     "output_type": "display_data"
    }
   ],
   "source": [
    "df[['AirTemperature','RoadSurfaceTemperature']].hist(figsize=(10,5))"
   ]
  },
  {
   "cell_type": "markdown",
   "metadata": {},
   "source": [
    "The *figsize* parameter takes in a width and height value. You can play around with this part to display the data that can best represent the point.\n",
    "\n",
    "Note that when you run the ***hist()***, the output has a line of extra message \"array(...)\". The trick to get rid of it is by placing a semi-colon after the function, as done in the following cell:"
   ]
  },
  {
   "cell_type": "code",
   "execution_count": 38,
   "metadata": {},
   "outputs": [
    {
     "data": {
      "image/png": "[encoded data removed]",
      "text/plain": [
       "<Figure size 720x360 with 2 Axes>"
      ]
     },
     "metadata": {
      "needs_background": "light"
     },
     "output_type": "display_data"
    }
   ],
   "source": [
    "df[['AirTemperature','RoadSurfaceTemperature']].hist(figsize=(10,5));"
   ]
  },
  {
   "cell_type": "markdown",
   "metadata": {},
   "source": [
    "---\n",
    "### Boxplot\n",
    "Boxplot is useful for displaying the distribution of data. The following figure shows the distribute of \"*AirTemperature*\" by each station."
   ]
  },
  {
   "cell_type": "code",
   "execution_count": 39,
   "metadata": {},
   "outputs": [
    {
     "name": "stderr",
     "output_type": "stream",
     "text": [
      "C:\\ProgramData\\Anaconda3\\lib\\site-packages\\numpy\\core\\_asarray.py:83: VisibleDeprecationWarning: Creating an ndarray from ragged nested sequences (which is a list-or-tuple of lists-or-tuples-or ndarrays with different lengths or shapes) is deprecated. If you meant to do this, you must specify 'dtype=object' when creating the ndarray\n",
      "  return array(a, dtype, copy=False, order=order)\n"
     ]
    },
    {
     "data": {
      "image/png": "[encoded data removed]",
      "text/plain": [
       "<Figure size 720x360 with 1 Axes>"
      ]
     },
     "metadata": {
      "needs_background": "light"
     },
     "output_type": "display_data"
    }
   ],
   "source": [
    "df.boxplot('AirTemperature', \n",
    "           by='StationName', \n",
    "           figsize=(10, 5))\n",
    "plt.xticks(rotation=20);   # Make the x-tick marks rotate by 20 degree"
   ]
  },
  {
   "cell_type": "markdown",
   "metadata": {},
   "source": [
    "---\n",
    "### Scatter Plot\n",
    "Scatter plot is a great visualization tool to show the relationships between pairs of attributes. You can set the size, shape, and style of the marker."
   ]
  },
  {
   "cell_type": "code",
   "execution_count": 40,
   "metadata": {},
   "outputs": [
    {
     "data": {
      "image/png": "[encoded data removed]",
      "text/plain": [
       "<Figure size 720x360 with 1 Axes>"
      ]
     },
     "metadata": {
      "needs_background": "light"
     },
     "output_type": "display_data"
    }
   ],
   "source": [
    "df.plot(x='AirTemperature', y='RoadSurfaceTemperature', \n",
    "        figsize=(10,5), \n",
    "        style='x');"
   ]
  },
  {
   "cell_type": "code",
   "execution_count": 41,
   "metadata": {},
   "outputs": [
    {
     "data": {
      "image/png": "[encoded data removed]",
      "text/plain": [
       "<Figure size 720x360 with 1 Axes>"
      ]
     },
     "metadata": {
      "needs_background": "light"
     },
     "output_type": "display_data"
    }
   ],
   "source": [
    "df.plot(x='AirTemperature', y='RoadSurfaceTemperature', \n",
    "        figsize=(10,5), \n",
    "        style='o',       # Use o as the marker shape\n",
    "        alpha=2e-3);     # Set the transparency of the marker to 0.002\n",
    "plt.title('Air Temperature vs. Road Surface Temperature');  # Set the plot title\n",
    "plt.xlabel(\"Air Temperature (F)\");                          # Set the x-axis label\n",
    "plt.ylabel(\"Road Surface Temperature (F)\");                 # Set the y-axis label"
   ]
  },
  {
   "cell_type": "markdown",
   "metadata": {},
   "source": [
    "---\n",
    "### Heatmap\n",
    "Heatmap is a useful plotting tool in the Seaborn library, and it is often used to show the correlation between attributes. This would require you to first generate a correlation matrix, which is then used to create the heatmap plot.\n",
    "\n",
    "In the example dataset I'm working with here, since some of the columns are nominal (i.e. not numerical), we need to apply a data pre-processing technique called ***One-hot encoding***, which will be covered in the course later on. For now, you can ignore the one-hot encoding part of the code."
   ]
  },
  {
   "cell_type": "code",
   "execution_count": 42,
   "metadata": {},
   "outputs": [],
   "source": [
    "# One-hot encoding on the StationName attribute\n",
    "df_station = pd.get_dummies(df['StationName'])\n",
    "\n",
    "# Perform left join to merge the dataframes\n",
    "df = df.join(df_station)"
   ]
  },
  {
   "cell_type": "code",
   "execution_count": 43,
   "metadata": {},
   "outputs": [
    {
     "data": {
      "text/html": [
       "<div>\n",
       "<style scoped>\n",
       "    .dataframe tbody tr th:only-of-type {\n",
       "        vertical-align: middle;\n",
       "    }\n",
       "\n",
       "    .dataframe tbody tr th {\n",
       "        vertical-align: top;\n",
       "    }\n",
       "\n",
       "    .dataframe thead th {\n",
       "        text-align: right;\n",
       "    }\n",
       "</style>\n",
       "<table border=\"1\" class=\"dataframe\">\n",
       "  <thead>\n",
       "    <tr style=\"text-align: right;\">\n",
       "      <th></th>\n",
       "      <th>RoadSurfaceTemperature</th>\n",
       "      <th>AirTemperature</th>\n",
       "      <th>35thAveSW_SWMyrtleSt</th>\n",
       "      <th>AlbroPlaceAirportWay</th>\n",
       "      <th>AuroraBridge</th>\n",
       "      <th>HarborAveUpperNorthBridge</th>\n",
       "      <th>MagnoliaBridge</th>\n",
       "      <th>NE45StViaduct</th>\n",
       "      <th>RooseveltWay_NE80thSt</th>\n",
       "      <th>SpokaneSwingBridge</th>\n",
       "    </tr>\n",
       "  </thead>\n",
       "  <tbody>\n",
       "    <tr>\n",
       "      <th>RoadSurfaceTemperature</th>\n",
       "      <td>1.000000</td>\n",
       "      <td>0.954846</td>\n",
       "      <td>0.135753</td>\n",
       "      <td>-0.913173</td>\n",
       "      <td>0.144069</td>\n",
       "      <td>0.039166</td>\n",
       "      <td>0.191153</td>\n",
       "      <td>0.220444</td>\n",
       "      <td>0.194951</td>\n",
       "      <td>0.029030</td>\n",
       "    </tr>\n",
       "    <tr>\n",
       "      <th>AirTemperature</th>\n",
       "      <td>0.954846</td>\n",
       "      <td>1.000000</td>\n",
       "      <td>0.258299</td>\n",
       "      <td>-0.886500</td>\n",
       "      <td>0.080586</td>\n",
       "      <td>-0.010874</td>\n",
       "      <td>0.080184</td>\n",
       "      <td>0.119442</td>\n",
       "      <td>0.334153</td>\n",
       "      <td>0.046199</td>\n",
       "    </tr>\n",
       "    <tr>\n",
       "      <th>35thAveSW_SWMyrtleSt</th>\n",
       "      <td>0.135753</td>\n",
       "      <td>0.258299</td>\n",
       "      <td>1.000000</td>\n",
       "      <td>-0.192741</td>\n",
       "      <td>-0.191259</td>\n",
       "      <td>-0.075189</td>\n",
       "      <td>-0.187362</td>\n",
       "      <td>-0.194628</td>\n",
       "      <td>-0.195604</td>\n",
       "      <td>-0.050147</td>\n",
       "    </tr>\n",
       "    <tr>\n",
       "      <th>AlbroPlaceAirportWay</th>\n",
       "      <td>-0.913173</td>\n",
       "      <td>-0.886500</td>\n",
       "      <td>-0.192741</td>\n",
       "      <td>1.000000</td>\n",
       "      <td>-0.188611</td>\n",
       "      <td>-0.074148</td>\n",
       "      <td>-0.184768</td>\n",
       "      <td>-0.191933</td>\n",
       "      <td>-0.192896</td>\n",
       "      <td>-0.049453</td>\n",
       "    </tr>\n",
       "    <tr>\n",
       "      <th>AuroraBridge</th>\n",
       "      <td>0.144069</td>\n",
       "      <td>0.080586</td>\n",
       "      <td>-0.191259</td>\n",
       "      <td>-0.188611</td>\n",
       "      <td>1.000000</td>\n",
       "      <td>-0.073578</td>\n",
       "      <td>-0.183347</td>\n",
       "      <td>-0.190457</td>\n",
       "      <td>-0.191413</td>\n",
       "      <td>-0.049073</td>\n",
       "    </tr>\n",
       "    <tr>\n",
       "      <th>HarborAveUpperNorthBridge</th>\n",
       "      <td>0.039166</td>\n",
       "      <td>-0.010874</td>\n",
       "      <td>-0.075189</td>\n",
       "      <td>-0.074148</td>\n",
       "      <td>-0.073578</td>\n",
       "      <td>1.000000</td>\n",
       "      <td>-0.072079</td>\n",
       "      <td>-0.074874</td>\n",
       "      <td>-0.075249</td>\n",
       "      <td>-0.019292</td>\n",
       "    </tr>\n",
       "    <tr>\n",
       "      <th>MagnoliaBridge</th>\n",
       "      <td>0.191153</td>\n",
       "      <td>0.080184</td>\n",
       "      <td>-0.187362</td>\n",
       "      <td>-0.184768</td>\n",
       "      <td>-0.183347</td>\n",
       "      <td>-0.072079</td>\n",
       "      <td>1.000000</td>\n",
       "      <td>-0.186576</td>\n",
       "      <td>-0.187512</td>\n",
       "      <td>-0.048073</td>\n",
       "    </tr>\n",
       "    <tr>\n",
       "      <th>NE45StViaduct</th>\n",
       "      <td>0.220444</td>\n",
       "      <td>0.119442</td>\n",
       "      <td>-0.194628</td>\n",
       "      <td>-0.191933</td>\n",
       "      <td>-0.190457</td>\n",
       "      <td>-0.074874</td>\n",
       "      <td>-0.186576</td>\n",
       "      <td>1.000000</td>\n",
       "      <td>-0.194784</td>\n",
       "      <td>-0.049937</td>\n",
       "    </tr>\n",
       "    <tr>\n",
       "      <th>RooseveltWay_NE80thSt</th>\n",
       "      <td>0.194951</td>\n",
       "      <td>0.334153</td>\n",
       "      <td>-0.195604</td>\n",
       "      <td>-0.192896</td>\n",
       "      <td>-0.191413</td>\n",
       "      <td>-0.075249</td>\n",
       "      <td>-0.187512</td>\n",
       "      <td>-0.194784</td>\n",
       "      <td>1.000000</td>\n",
       "      <td>-0.050188</td>\n",
       "    </tr>\n",
       "    <tr>\n",
       "      <th>SpokaneSwingBridge</th>\n",
       "      <td>0.029030</td>\n",
       "      <td>0.046199</td>\n",
       "      <td>-0.050147</td>\n",
       "      <td>-0.049453</td>\n",
       "      <td>-0.049073</td>\n",
       "      <td>-0.019292</td>\n",
       "      <td>-0.048073</td>\n",
       "      <td>-0.049937</td>\n",
       "      <td>-0.050188</td>\n",
       "      <td>1.000000</td>\n",
       "    </tr>\n",
       "  </tbody>\n",
       "</table>\n",
       "</div>"
      ],
      "text/plain": [
       "                           RoadSurfaceTemperature  AirTemperature  \\\n",
       "RoadSurfaceTemperature                   1.000000        0.954846   \n",
       "AirTemperature                           0.954846        1.000000   \n",
       "35thAveSW_SWMyrtleSt                     0.135753        0.258299   \n",
       "AlbroPlaceAirportWay                    -0.913173       -0.886500   \n",
       "AuroraBridge                             0.144069        0.080586   \n",
       "HarborAveUpperNorthBridge                0.039166       -0.010874   \n",
       "MagnoliaBridge                           0.191153        0.080184   \n",
       "NE45StViaduct                            0.220444        0.119442   \n",
       "RooseveltWay_NE80thSt                    0.194951        0.334153   \n",
       "SpokaneSwingBridge                       0.029030        0.046199   \n",
       "\n",
       "                           35thAveSW_SWMyrtleSt  AlbroPlaceAirportWay  \\\n",
       "RoadSurfaceTemperature                 0.135753             -0.913173   \n",
       "AirTemperature                         0.258299             -0.886500   \n",
       "35thAveSW_SWMyrtleSt                   1.000000             -0.192741   \n",
       "AlbroPlaceAirportWay                  -0.192741              1.000000   \n",
       "AuroraBridge                          -0.191259             -0.188611   \n",
       "HarborAveUpperNorthBridge             -0.075189             -0.074148   \n",
       "MagnoliaBridge                        -0.187362             -0.184768   \n",
       "NE45StViaduct                         -0.194628             -0.191933   \n",
       "RooseveltWay_NE80thSt                 -0.195604             -0.192896   \n",
       "SpokaneSwingBridge                    -0.050147             -0.049453   \n",
       "\n",
       "                           AuroraBridge  HarborAveUpperNorthBridge  \\\n",
       "RoadSurfaceTemperature         0.144069                   0.039166   \n",
       "AirTemperature                 0.080586                  -0.010874   \n",
       "35thAveSW_SWMyrtleSt          -0.191259                  -0.075189   \n",
       "AlbroPlaceAirportWay          -0.188611                  -0.074148   \n",
       "AuroraBridge                   1.000000                  -0.073578   \n",
       "HarborAveUpperNorthBridge     -0.073578                   1.000000   \n",
       "MagnoliaBridge                -0.183347                  -0.072079   \n",
       "NE45StViaduct                 -0.190457                  -0.074874   \n",
       "RooseveltWay_NE80thSt         -0.191413                  -0.075249   \n",
       "SpokaneSwingBridge            -0.049073                  -0.019292   \n",
       "\n",
       "                           MagnoliaBridge  NE45StViaduct  \\\n",
       "RoadSurfaceTemperature           0.191153       0.220444   \n",
       "AirTemperature                   0.080184       0.119442   \n",
       "35thAveSW_SWMyrtleSt            -0.187362      -0.194628   \n",
       "AlbroPlaceAirportWay            -0.184768      -0.191933   \n",
       "AuroraBridge                    -0.183347      -0.190457   \n",
       "HarborAveUpperNorthBridge       -0.072079      -0.074874   \n",
       "MagnoliaBridge                   1.000000      -0.186576   \n",
       "NE45StViaduct                   -0.186576       1.000000   \n",
       "RooseveltWay_NE80thSt           -0.187512      -0.194784   \n",
       "SpokaneSwingBridge              -0.048073      -0.049937   \n",
       "\n",
       "                           RooseveltWay_NE80thSt  SpokaneSwingBridge  \n",
       "RoadSurfaceTemperature                  0.194951            0.029030  \n",
       "AirTemperature                          0.334153            0.046199  \n",
       "35thAveSW_SWMyrtleSt                   -0.195604           -0.050147  \n",
       "AlbroPlaceAirportWay                   -0.192896           -0.049453  \n",
       "AuroraBridge                           -0.191413           -0.049073  \n",
       "HarborAveUpperNorthBridge              -0.075249           -0.019292  \n",
       "MagnoliaBridge                         -0.187512           -0.048073  \n",
       "NE45StViaduct                          -0.194784           -0.049937  \n",
       "RooseveltWay_NE80thSt                   1.000000           -0.050188  \n",
       "SpokaneSwingBridge                     -0.050188            1.000000  "
      ]
     },
     "execution_count": 43,
     "metadata": {},
     "output_type": "execute_result"
    }
   ],
   "source": [
    "# Generate a correlation matrix after the one-hot encoding\n",
    "corr = df.drop('RecordId', axis=1).corr()\n",
    "corr"
   ]
  },
  {
   "cell_type": "code",
   "execution_count": 44,
   "metadata": {},
   "outputs": [
    {
     "data": {
      "image/png": "[encoded data removed]",
      "text/plain": [
       "<Figure size 720x504 with 2 Axes>"
      ]
     },
     "metadata": {
      "needs_background": "light"
     },
     "output_type": "display_data"
    }
   ],
   "source": [
    "# Show the correlation matrix visually as a heatmap\n",
    "plt.figure(figsize=(10, 7))\n",
    "sns.heatmap(corr, annot=True);"
   ]
  },
  {
   "cell_type": "code",
   "execution_count": null,
   "metadata": {},
   "outputs": [],
   "source": []
  }
 ],
 "metadata": {
  "kernelspec": {
   "display_name": "Python 3",
   "language": "python",
   "name": "python3"
  },
  "language_info": {
   "codemirror_mode": {
    "name": "ipython",
    "version": 3
   },
   "file_extension": ".py",
   "mimetype": "text/x-python",
   "name": "python",
   "nbconvert_exporter": "python",
   "pygments_lexer": "ipython3",
   "version": "3.8.3"
  }
 },
 "nbformat": 4,
 "nbformat_minor": 4
}
