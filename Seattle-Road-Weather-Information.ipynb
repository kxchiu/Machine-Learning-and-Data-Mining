{
 "cells": [
  {
   "cell_type": "markdown",
   "metadata": {},
   "source": [
    "# Seattle Road Weather Information Stations\n",
    "This notebook works with the <a href=\"https://www.kaggle.com/city-of-seattle/seattle-road-weather-information-stations\">Seattle Road Weather Information Stations</a> dataset on Kaggle. The data is collected from sensor stations placed on bridges and streets that measures the temperature of road surface and air.\n",
    "\n",
    "The goal for this notebook is to solve a **regression problem** by build and train regression models that can learn to predict the surface road temperature based on other features in the dataset. The evaluation metrics for performance  will be **root mean squared error (RMSE)** and **R-sqaured score**."
   ]
  },
  {
   "cell_type": "code",
   "execution_count": 1,
   "metadata": {},
   "outputs": [],
   "source": [
    "%matplotlib inline\n",
    "\n",
    "import numpy as np\n",
    "import pandas as pd\n",
    "from pandas import get_dummies\n",
    "import matplotlib.pyplot as plt\n",
    "import seaborn as sns"
   ]
  },
  {
   "cell_type": "code",
   "execution_count": 2,
   "metadata": {},
   "outputs": [],
   "source": [
    "from sklearn.model_selection import train_test_split, GridSearchCV\n",
    "from sklearn.linear_model import LinearRegression, Ridge, Lasso\n",
    "from sklearn.metrics import r2_score, mean_squared_error"
   ]
  },
  {
   "cell_type": "code",
   "execution_count": 3,
   "metadata": {},
   "outputs": [],
   "source": [
    "df = pd.read_csv('datasets/seattle-road-weather/road-weather-information-stations.csv')"
   ]
  },
  {
   "cell_type": "markdown",
   "metadata": {},
   "source": [
    "---\n",
    "## Data Understanding and Exploration"
   ]
  },
  {
   "cell_type": "code",
   "execution_count": 4,
   "metadata": {},
   "outputs": [
    {
     "data": {
      "text/html": [
       "<div>\n",
       "<style scoped>\n",
       "    .dataframe tbody tr th:only-of-type {\n",
       "        vertical-align: middle;\n",
       "    }\n",
       "\n",
       "    .dataframe tbody tr th {\n",
       "        vertical-align: top;\n",
       "    }\n",
       "\n",
       "    .dataframe thead th {\n",
       "        text-align: right;\n",
       "    }\n",
       "</style>\n",
       "<table border=\"1\" class=\"dataframe\">\n",
       "  <thead>\n",
       "    <tr style=\"text-align: right;\">\n",
       "      <th></th>\n",
       "      <th>StationName</th>\n",
       "      <th>StationLocation</th>\n",
       "      <th>DateTime</th>\n",
       "      <th>RecordId</th>\n",
       "      <th>RoadSurfaceTemperature</th>\n",
       "      <th>AirTemperature</th>\n",
       "    </tr>\n",
       "  </thead>\n",
       "  <tbody>\n",
       "    <tr>\n",
       "      <th>0</th>\n",
       "      <td>SpokaneSwingBridge</td>\n",
       "      <td>{'type': 'Point', 'coordinates': [-122.351743,...</td>\n",
       "      <td>2019-09-18T02:02:00.000</td>\n",
       "      <td>3500793</td>\n",
       "      <td>57.45</td>\n",
       "      <td>61.86</td>\n",
       "    </tr>\n",
       "    <tr>\n",
       "      <th>1</th>\n",
       "      <td>NE45StViaduct</td>\n",
       "      <td>{'type': 'Point', 'coordinates': [-122.301929,...</td>\n",
       "      <td>2019-09-18T15:12:00.000</td>\n",
       "      <td>3594561</td>\n",
       "      <td>78.25</td>\n",
       "      <td>68.40</td>\n",
       "    </tr>\n",
       "    <tr>\n",
       "      <th>2</th>\n",
       "      <td>AlbroPlaceAirportWay</td>\n",
       "      <td>{'type': 'Point', 'coordinates': [-122.314114,...</td>\n",
       "      <td>2019-09-17T02:17:00.000</td>\n",
       "      <td>451479</td>\n",
       "      <td>18.76</td>\n",
       "      <td>27.24</td>\n",
       "    </tr>\n",
       "  </tbody>\n",
       "</table>\n",
       "</div>"
      ],
      "text/plain": [
       "            StationName                                    StationLocation  \\\n",
       "0    SpokaneSwingBridge  {'type': 'Point', 'coordinates': [-122.351743,...   \n",
       "1         NE45StViaduct  {'type': 'Point', 'coordinates': [-122.301929,...   \n",
       "2  AlbroPlaceAirportWay  {'type': 'Point', 'coordinates': [-122.314114,...   \n",
       "\n",
       "                  DateTime  RecordId  RoadSurfaceTemperature  AirTemperature  \n",
       "0  2019-09-18T02:02:00.000   3500793                   57.45           61.86  \n",
       "1  2019-09-18T15:12:00.000   3594561                   78.25           68.40  \n",
       "2  2019-09-17T02:17:00.000    451479                   18.76           27.24  "
      ]
     },
     "execution_count": 4,
     "metadata": {},
     "output_type": "execute_result"
    }
   ],
   "source": [
    "df.head(3)"
   ]
  },
  {
   "cell_type": "markdown",
   "metadata": {},
   "source": [
    "The dataset contains 6 features:\n",
    "<ul>\n",
    "    <li>StationsName: name of the road weather sensor stations.</li>\n",
    "    <li>StationLocation: location of the road weather stations, in the tuple form of latitude-longitude .</li>\n",
    "    <li>DataTime: record date and time.</li>\n",
    "    <li>RecordId: record ID.</li>\n",
    "    <li>RoadSurfaceTemperature: temperature of the road surface in degree Fahrenheit.</li>\n",
    "    <li>AirTemperature: air temperature in degree Fahrenheit.</li>\n",
    "</ul>"
   ]
  },
  {
   "cell_type": "code",
   "execution_count": 5,
   "metadata": {},
   "outputs": [
    {
     "data": {
      "text/plain": [
       "StationName               0\n",
       "StationLocation           0\n",
       "DateTime                  0\n",
       "RecordId                  0\n",
       "RoadSurfaceTemperature    0\n",
       "AirTemperature            0\n",
       "dtype: int64"
      ]
     },
     "execution_count": 5,
     "metadata": {},
     "output_type": "execute_result"
    }
   ],
   "source": [
    "df.isna().sum()"
   ]
  },
  {
   "cell_type": "markdown",
   "metadata": {},
   "source": [
    "There is no missing values in this dataset, so we don't have to worry about dropping nulls or imputation."
   ]
  },
  {
   "cell_type": "code",
   "execution_count": 6,
   "metadata": {},
   "outputs": [
    {
     "name": "stdout",
     "output_type": "stream",
     "text": [
      "<class 'pandas.core.frame.DataFrame'>\n",
      "RangeIndex: 1447982 entries, 0 to 1447981\n",
      "Data columns (total 6 columns):\n",
      " #   Column                  Non-Null Count    Dtype  \n",
      "---  ------                  --------------    -----  \n",
      " 0   StationName             1447982 non-null  object \n",
      " 1   StationLocation         1447982 non-null  object \n",
      " 2   DateTime                1447982 non-null  object \n",
      " 3   RecordId                1447982 non-null  int64  \n",
      " 4   RoadSurfaceTemperature  1447982 non-null  float64\n",
      " 5   AirTemperature          1447982 non-null  float64\n",
      "dtypes: float64(2), int64(1), object(3)\n",
      "memory usage: 66.3+ MB\n"
     ]
    }
   ],
   "source": [
    "df.info()"
   ]
  },
  {
   "cell_type": "code",
   "execution_count": 7,
   "metadata": {},
   "outputs": [
    {
     "data": {
      "text/plain": [
       "RooseveltWay_NE80thSt        237053\n",
       "35thAveSW_SWMyrtleSt         236735\n",
       "NE45StViaduct                235075\n",
       "AlbroPlaceAirportWay         231265\n",
       "AuroraBridge                 228280\n",
       "MagnoliaBridge               220474\n",
       "HarborAveUpperNorthBridge     40706\n",
       "SpokaneSwingBridge            18394\n",
       "Name: StationName, dtype: int64"
      ]
     },
     "execution_count": 7,
     "metadata": {},
     "output_type": "execute_result"
    }
   ],
   "source": [
    "df['StationName'].value_counts()"
   ]
  },
  {
   "cell_type": "code",
   "execution_count": 8,
   "metadata": {},
   "outputs": [
    {
     "name": "stderr",
     "output_type": "stream",
     "text": [
      "C:\\ProgramData\\Anaconda3\\lib\\site-packages\\numpy\\core\\_asarray.py:83: VisibleDeprecationWarning: Creating an ndarray from ragged nested sequences (which is a list-or-tuple of lists-or-tuples-or ndarrays with different lengths or shapes) is deprecated. If you meant to do this, you must specify 'dtype=object' when creating the ndarray\n",
      "  return array(a, dtype, copy=False, order=order)\n"
     ]
    },
    {
     "data": {
      "image/png": "[encoded data removed]",
      "text/plain": [
       "<Figure size 720x360 with 1 Axes>"
      ]
     },
     "metadata": {
      "needs_background": "light"
     },
     "output_type": "display_data"
    }
   ],
   "source": [
    "df.boxplot('AirTemperature', by='StationName', figsize=(10, 5))\n",
    "plt.xticks(rotation=20);"
   ]
  },
  {
   "cell_type": "code",
   "execution_count": 9,
   "metadata": {},
   "outputs": [
    {
     "name": "stderr",
     "output_type": "stream",
     "text": [
      "C:\\ProgramData\\Anaconda3\\lib\\site-packages\\numpy\\core\\_asarray.py:83: VisibleDeprecationWarning: Creating an ndarray from ragged nested sequences (which is a list-or-tuple of lists-or-tuples-or ndarrays with different lengths or shapes) is deprecated. If you meant to do this, you must specify 'dtype=object' when creating the ndarray\n",
      "  return array(a, dtype, copy=False, order=order)\n"
     ]
    },
    {
     "data": {
      "image/png": "[encoded data removed]",
      "text/plain": [
       "<Figure size 720x360 with 1 Axes>"
      ]
     },
     "metadata": {
      "needs_background": "light"
     },
     "output_type": "display_data"
    }
   ],
   "source": [
    "df.boxplot('RoadSurfaceTemperature', by='StationName', figsize=(10, 5))\n",
    "plt.xticks(rotation=20);"
   ]
  },
  {
   "cell_type": "markdown",
   "metadata": {},
   "source": [
    "There are 8 road weather information stations. From the box plots, we can find that the Albro Place Airport Way sensor station has the lowest air and road surface temperature of all in this dataset."
   ]
  },
  {
   "cell_type": "code",
   "execution_count": 10,
   "metadata": {},
   "outputs": [
    {
     "data": {
      "image/png": "[encoded data removed]",
      "text/plain": [
       "<Figure size 1080x504 with 4 Axes>"
      ]
     },
     "metadata": {
      "needs_background": "light"
     },
     "output_type": "display_data"
    }
   ],
   "source": [
    "pd.plotting.scatter_matrix(df[['RoadSurfaceTemperature', 'AirTemperature']], figsize=(15,7), alpha=5e-3);"
   ]
  },
  {
   "cell_type": "markdown",
   "metadata": {},
   "source": [
    "We can see that there's a high correlation between road surface temperature and air temperature."
   ]
  },
  {
   "cell_type": "markdown",
   "metadata": {},
   "source": [
    "---\n",
    "## Data Preprocessing\n",
    "### StationName\n",
    "Because the StationName feature is stored as an object, in order for linear regression model to learn, we have to apply one-hot encoding to it."
   ]
  },
  {
   "cell_type": "code",
   "execution_count": 11,
   "metadata": {},
   "outputs": [
    {
     "data": {
      "text/html": [
       "<div>\n",
       "<style scoped>\n",
       "    .dataframe tbody tr th:only-of-type {\n",
       "        vertical-align: middle;\n",
       "    }\n",
       "\n",
       "    .dataframe tbody tr th {\n",
       "        vertical-align: top;\n",
       "    }\n",
       "\n",
       "    .dataframe thead th {\n",
       "        text-align: right;\n",
       "    }\n",
       "</style>\n",
       "<table border=\"1\" class=\"dataframe\">\n",
       "  <thead>\n",
       "    <tr style=\"text-align: right;\">\n",
       "      <th></th>\n",
       "      <th>35thAveSW_SWMyrtleSt</th>\n",
       "      <th>AlbroPlaceAirportWay</th>\n",
       "      <th>AuroraBridge</th>\n",
       "      <th>HarborAveUpperNorthBridge</th>\n",
       "      <th>MagnoliaBridge</th>\n",
       "      <th>NE45StViaduct</th>\n",
       "      <th>RooseveltWay_NE80thSt</th>\n",
       "      <th>SpokaneSwingBridge</th>\n",
       "    </tr>\n",
       "  </thead>\n",
       "  <tbody>\n",
       "    <tr>\n",
       "      <th>0</th>\n",
       "      <td>0</td>\n",
       "      <td>0</td>\n",
       "      <td>0</td>\n",
       "      <td>0</td>\n",
       "      <td>0</td>\n",
       "      <td>0</td>\n",
       "      <td>0</td>\n",
       "      <td>1</td>\n",
       "    </tr>\n",
       "    <tr>\n",
       "      <th>1</th>\n",
       "      <td>0</td>\n",
       "      <td>0</td>\n",
       "      <td>0</td>\n",
       "      <td>0</td>\n",
       "      <td>0</td>\n",
       "      <td>1</td>\n",
       "      <td>0</td>\n",
       "      <td>0</td>\n",
       "    </tr>\n",
       "    <tr>\n",
       "      <th>2</th>\n",
       "      <td>0</td>\n",
       "      <td>1</td>\n",
       "      <td>0</td>\n",
       "      <td>0</td>\n",
       "      <td>0</td>\n",
       "      <td>0</td>\n",
       "      <td>0</td>\n",
       "      <td>0</td>\n",
       "    </tr>\n",
       "  </tbody>\n",
       "</table>\n",
       "</div>"
      ],
      "text/plain": [
       "   35thAveSW_SWMyrtleSt  AlbroPlaceAirportWay  AuroraBridge  \\\n",
       "0                     0                     0             0   \n",
       "1                     0                     0             0   \n",
       "2                     0                     1             0   \n",
       "\n",
       "   HarborAveUpperNorthBridge  MagnoliaBridge  NE45StViaduct  \\\n",
       "0                          0               0              0   \n",
       "1                          0               0              1   \n",
       "2                          0               0              0   \n",
       "\n",
       "   RooseveltWay_NE80thSt  SpokaneSwingBridge  \n",
       "0                      0                   1  \n",
       "1                      0                   0  \n",
       "2                      0                   0  "
      ]
     },
     "execution_count": 11,
     "metadata": {},
     "output_type": "execute_result"
    }
   ],
   "source": [
    "df_station = pd.get_dummies(df['StationName'])\n",
    "df_station.head(3)"
   ]
  },
  {
   "cell_type": "code",
   "execution_count": 12,
   "metadata": {},
   "outputs": [],
   "source": [
    "# Perform left join to merge the dataframes\n",
    "df = df.join(df_station)"
   ]
  },
  {
   "cell_type": "code",
   "execution_count": 13,
   "metadata": {},
   "outputs": [
    {
     "data": {
      "text/html": [
       "<div>\n",
       "<style scoped>\n",
       "    .dataframe tbody tr th:only-of-type {\n",
       "        vertical-align: middle;\n",
       "    }\n",
       "\n",
       "    .dataframe tbody tr th {\n",
       "        vertical-align: top;\n",
       "    }\n",
       "\n",
       "    .dataframe thead th {\n",
       "        text-align: right;\n",
       "    }\n",
       "</style>\n",
       "<table border=\"1\" class=\"dataframe\">\n",
       "  <thead>\n",
       "    <tr style=\"text-align: right;\">\n",
       "      <th></th>\n",
       "      <th>StationName</th>\n",
       "      <th>StationLocation</th>\n",
       "      <th>DateTime</th>\n",
       "      <th>RecordId</th>\n",
       "      <th>RoadSurfaceTemperature</th>\n",
       "      <th>AirTemperature</th>\n",
       "      <th>35thAveSW_SWMyrtleSt</th>\n",
       "      <th>AlbroPlaceAirportWay</th>\n",
       "      <th>AuroraBridge</th>\n",
       "      <th>HarborAveUpperNorthBridge</th>\n",
       "      <th>MagnoliaBridge</th>\n",
       "      <th>NE45StViaduct</th>\n",
       "      <th>RooseveltWay_NE80thSt</th>\n",
       "      <th>SpokaneSwingBridge</th>\n",
       "    </tr>\n",
       "  </thead>\n",
       "  <tbody>\n",
       "    <tr>\n",
       "      <th>0</th>\n",
       "      <td>SpokaneSwingBridge</td>\n",
       "      <td>{'type': 'Point', 'coordinates': [-122.351743,...</td>\n",
       "      <td>2019-09-18T02:02:00.000</td>\n",
       "      <td>3500793</td>\n",
       "      <td>57.45</td>\n",
       "      <td>61.86</td>\n",
       "      <td>0</td>\n",
       "      <td>0</td>\n",
       "      <td>0</td>\n",
       "      <td>0</td>\n",
       "      <td>0</td>\n",
       "      <td>0</td>\n",
       "      <td>0</td>\n",
       "      <td>1</td>\n",
       "    </tr>\n",
       "    <tr>\n",
       "      <th>1</th>\n",
       "      <td>NE45StViaduct</td>\n",
       "      <td>{'type': 'Point', 'coordinates': [-122.301929,...</td>\n",
       "      <td>2019-09-18T15:12:00.000</td>\n",
       "      <td>3594561</td>\n",
       "      <td>78.25</td>\n",
       "      <td>68.40</td>\n",
       "      <td>0</td>\n",
       "      <td>0</td>\n",
       "      <td>0</td>\n",
       "      <td>0</td>\n",
       "      <td>0</td>\n",
       "      <td>1</td>\n",
       "      <td>0</td>\n",
       "      <td>0</td>\n",
       "    </tr>\n",
       "    <tr>\n",
       "      <th>2</th>\n",
       "      <td>AlbroPlaceAirportWay</td>\n",
       "      <td>{'type': 'Point', 'coordinates': [-122.314114,...</td>\n",
       "      <td>2019-09-17T02:17:00.000</td>\n",
       "      <td>451479</td>\n",
       "      <td>18.76</td>\n",
       "      <td>27.24</td>\n",
       "      <td>0</td>\n",
       "      <td>1</td>\n",
       "      <td>0</td>\n",
       "      <td>0</td>\n",
       "      <td>0</td>\n",
       "      <td>0</td>\n",
       "      <td>0</td>\n",
       "      <td>0</td>\n",
       "    </tr>\n",
       "  </tbody>\n",
       "</table>\n",
       "</div>"
      ],
      "text/plain": [
       "            StationName                                    StationLocation  \\\n",
       "0    SpokaneSwingBridge  {'type': 'Point', 'coordinates': [-122.351743,...   \n",
       "1         NE45StViaduct  {'type': 'Point', 'coordinates': [-122.301929,...   \n",
       "2  AlbroPlaceAirportWay  {'type': 'Point', 'coordinates': [-122.314114,...   \n",
       "\n",
       "                  DateTime  RecordId  RoadSurfaceTemperature  AirTemperature  \\\n",
       "0  2019-09-18T02:02:00.000   3500793                   57.45           61.86   \n",
       "1  2019-09-18T15:12:00.000   3594561                   78.25           68.40   \n",
       "2  2019-09-17T02:17:00.000    451479                   18.76           27.24   \n",
       "\n",
       "   35thAveSW_SWMyrtleSt  AlbroPlaceAirportWay  AuroraBridge  \\\n",
       "0                     0                     0             0   \n",
       "1                     0                     0             0   \n",
       "2                     0                     1             0   \n",
       "\n",
       "   HarborAveUpperNorthBridge  MagnoliaBridge  NE45StViaduct  \\\n",
       "0                          0               0              0   \n",
       "1                          0               0              1   \n",
       "2                          0               0              0   \n",
       "\n",
       "   RooseveltWay_NE80thSt  SpokaneSwingBridge  \n",
       "0                      0                   1  \n",
       "1                      0                   0  \n",
       "2                      0                   0  "
      ]
     },
     "execution_count": 13,
     "metadata": {},
     "output_type": "execute_result"
    }
   ],
   "source": [
    "df.head(3)"
   ]
  },
  {
   "cell_type": "code",
   "execution_count": 14,
   "metadata": {},
   "outputs": [
    {
     "data": {
      "text/html": [
       "<div>\n",
       "<style scoped>\n",
       "    .dataframe tbody tr th:only-of-type {\n",
       "        vertical-align: middle;\n",
       "    }\n",
       "\n",
       "    .dataframe tbody tr th {\n",
       "        vertical-align: top;\n",
       "    }\n",
       "\n",
       "    .dataframe thead th {\n",
       "        text-align: right;\n",
       "    }\n",
       "</style>\n",
       "<table border=\"1\" class=\"dataframe\">\n",
       "  <thead>\n",
       "    <tr style=\"text-align: right;\">\n",
       "      <th></th>\n",
       "      <th>RoadSurfaceTemperature</th>\n",
       "      <th>AirTemperature</th>\n",
       "      <th>35thAveSW_SWMyrtleSt</th>\n",
       "      <th>AlbroPlaceAirportWay</th>\n",
       "      <th>AuroraBridge</th>\n",
       "      <th>HarborAveUpperNorthBridge</th>\n",
       "      <th>MagnoliaBridge</th>\n",
       "      <th>NE45StViaduct</th>\n",
       "      <th>RooseveltWay_NE80thSt</th>\n",
       "      <th>SpokaneSwingBridge</th>\n",
       "    </tr>\n",
       "  </thead>\n",
       "  <tbody>\n",
       "    <tr>\n",
       "      <th>RoadSurfaceTemperature</th>\n",
       "      <td>1.000000</td>\n",
       "      <td>0.954846</td>\n",
       "      <td>0.135753</td>\n",
       "      <td>-0.913173</td>\n",
       "      <td>0.144069</td>\n",
       "      <td>0.039166</td>\n",
       "      <td>0.191153</td>\n",
       "      <td>0.220444</td>\n",
       "      <td>0.194951</td>\n",
       "      <td>0.029030</td>\n",
       "    </tr>\n",
       "    <tr>\n",
       "      <th>AirTemperature</th>\n",
       "      <td>0.954846</td>\n",
       "      <td>1.000000</td>\n",
       "      <td>0.258299</td>\n",
       "      <td>-0.886500</td>\n",
       "      <td>0.080586</td>\n",
       "      <td>-0.010874</td>\n",
       "      <td>0.080184</td>\n",
       "      <td>0.119442</td>\n",
       "      <td>0.334153</td>\n",
       "      <td>0.046199</td>\n",
       "    </tr>\n",
       "    <tr>\n",
       "      <th>35thAveSW_SWMyrtleSt</th>\n",
       "      <td>0.135753</td>\n",
       "      <td>0.258299</td>\n",
       "      <td>1.000000</td>\n",
       "      <td>-0.192741</td>\n",
       "      <td>-0.191259</td>\n",
       "      <td>-0.075189</td>\n",
       "      <td>-0.187362</td>\n",
       "      <td>-0.194628</td>\n",
       "      <td>-0.195604</td>\n",
       "      <td>-0.050147</td>\n",
       "    </tr>\n",
       "    <tr>\n",
       "      <th>AlbroPlaceAirportWay</th>\n",
       "      <td>-0.913173</td>\n",
       "      <td>-0.886500</td>\n",
       "      <td>-0.192741</td>\n",
       "      <td>1.000000</td>\n",
       "      <td>-0.188611</td>\n",
       "      <td>-0.074148</td>\n",
       "      <td>-0.184768</td>\n",
       "      <td>-0.191933</td>\n",
       "      <td>-0.192896</td>\n",
       "      <td>-0.049453</td>\n",
       "    </tr>\n",
       "    <tr>\n",
       "      <th>AuroraBridge</th>\n",
       "      <td>0.144069</td>\n",
       "      <td>0.080586</td>\n",
       "      <td>-0.191259</td>\n",
       "      <td>-0.188611</td>\n",
       "      <td>1.000000</td>\n",
       "      <td>-0.073578</td>\n",
       "      <td>-0.183347</td>\n",
       "      <td>-0.190457</td>\n",
       "      <td>-0.191413</td>\n",
       "      <td>-0.049073</td>\n",
       "    </tr>\n",
       "    <tr>\n",
       "      <th>HarborAveUpperNorthBridge</th>\n",
       "      <td>0.039166</td>\n",
       "      <td>-0.010874</td>\n",
       "      <td>-0.075189</td>\n",
       "      <td>-0.074148</td>\n",
       "      <td>-0.073578</td>\n",
       "      <td>1.000000</td>\n",
       "      <td>-0.072079</td>\n",
       "      <td>-0.074874</td>\n",
       "      <td>-0.075249</td>\n",
       "      <td>-0.019292</td>\n",
       "    </tr>\n",
       "    <tr>\n",
       "      <th>MagnoliaBridge</th>\n",
       "      <td>0.191153</td>\n",
       "      <td>0.080184</td>\n",
       "      <td>-0.187362</td>\n",
       "      <td>-0.184768</td>\n",
       "      <td>-0.183347</td>\n",
       "      <td>-0.072079</td>\n",
       "      <td>1.000000</td>\n",
       "      <td>-0.186576</td>\n",
       "      <td>-0.187512</td>\n",
       "      <td>-0.048073</td>\n",
       "    </tr>\n",
       "    <tr>\n",
       "      <th>NE45StViaduct</th>\n",
       "      <td>0.220444</td>\n",
       "      <td>0.119442</td>\n",
       "      <td>-0.194628</td>\n",
       "      <td>-0.191933</td>\n",
       "      <td>-0.190457</td>\n",
       "      <td>-0.074874</td>\n",
       "      <td>-0.186576</td>\n",
       "      <td>1.000000</td>\n",
       "      <td>-0.194784</td>\n",
       "      <td>-0.049937</td>\n",
       "    </tr>\n",
       "    <tr>\n",
       "      <th>RooseveltWay_NE80thSt</th>\n",
       "      <td>0.194951</td>\n",
       "      <td>0.334153</td>\n",
       "      <td>-0.195604</td>\n",
       "      <td>-0.192896</td>\n",
       "      <td>-0.191413</td>\n",
       "      <td>-0.075249</td>\n",
       "      <td>-0.187512</td>\n",
       "      <td>-0.194784</td>\n",
       "      <td>1.000000</td>\n",
       "      <td>-0.050188</td>\n",
       "    </tr>\n",
       "    <tr>\n",
       "      <th>SpokaneSwingBridge</th>\n",
       "      <td>0.029030</td>\n",
       "      <td>0.046199</td>\n",
       "      <td>-0.050147</td>\n",
       "      <td>-0.049453</td>\n",
       "      <td>-0.049073</td>\n",
       "      <td>-0.019292</td>\n",
       "      <td>-0.048073</td>\n",
       "      <td>-0.049937</td>\n",
       "      <td>-0.050188</td>\n",
       "      <td>1.000000</td>\n",
       "    </tr>\n",
       "  </tbody>\n",
       "</table>\n",
       "</div>"
      ],
      "text/plain": [
       "                           RoadSurfaceTemperature  AirTemperature  \\\n",
       "RoadSurfaceTemperature                   1.000000        0.954846   \n",
       "AirTemperature                           0.954846        1.000000   \n",
       "35thAveSW_SWMyrtleSt                     0.135753        0.258299   \n",
       "AlbroPlaceAirportWay                    -0.913173       -0.886500   \n",
       "AuroraBridge                             0.144069        0.080586   \n",
       "HarborAveUpperNorthBridge                0.039166       -0.010874   \n",
       "MagnoliaBridge                           0.191153        0.080184   \n",
       "NE45StViaduct                            0.220444        0.119442   \n",
       "RooseveltWay_NE80thSt                    0.194951        0.334153   \n",
       "SpokaneSwingBridge                       0.029030        0.046199   \n",
       "\n",
       "                           35thAveSW_SWMyrtleSt  AlbroPlaceAirportWay  \\\n",
       "RoadSurfaceTemperature                 0.135753             -0.913173   \n",
       "AirTemperature                         0.258299             -0.886500   \n",
       "35thAveSW_SWMyrtleSt                   1.000000             -0.192741   \n",
       "AlbroPlaceAirportWay                  -0.192741              1.000000   \n",
       "AuroraBridge                          -0.191259             -0.188611   \n",
       "HarborAveUpperNorthBridge             -0.075189             -0.074148   \n",
       "MagnoliaBridge                        -0.187362             -0.184768   \n",
       "NE45StViaduct                         -0.194628             -0.191933   \n",
       "RooseveltWay_NE80thSt                 -0.195604             -0.192896   \n",
       "SpokaneSwingBridge                    -0.050147             -0.049453   \n",
       "\n",
       "                           AuroraBridge  HarborAveUpperNorthBridge  \\\n",
       "RoadSurfaceTemperature         0.144069                   0.039166   \n",
       "AirTemperature                 0.080586                  -0.010874   \n",
       "35thAveSW_SWMyrtleSt          -0.191259                  -0.075189   \n",
       "AlbroPlaceAirportWay          -0.188611                  -0.074148   \n",
       "AuroraBridge                   1.000000                  -0.073578   \n",
       "HarborAveUpperNorthBridge     -0.073578                   1.000000   \n",
       "MagnoliaBridge                -0.183347                  -0.072079   \n",
       "NE45StViaduct                 -0.190457                  -0.074874   \n",
       "RooseveltWay_NE80thSt         -0.191413                  -0.075249   \n",
       "SpokaneSwingBridge            -0.049073                  -0.019292   \n",
       "\n",
       "                           MagnoliaBridge  NE45StViaduct  \\\n",
       "RoadSurfaceTemperature           0.191153       0.220444   \n",
       "AirTemperature                   0.080184       0.119442   \n",
       "35thAveSW_SWMyrtleSt            -0.187362      -0.194628   \n",
       "AlbroPlaceAirportWay            -0.184768      -0.191933   \n",
       "AuroraBridge                    -0.183347      -0.190457   \n",
       "HarborAveUpperNorthBridge       -0.072079      -0.074874   \n",
       "MagnoliaBridge                   1.000000      -0.186576   \n",
       "NE45StViaduct                   -0.186576       1.000000   \n",
       "RooseveltWay_NE80thSt           -0.187512      -0.194784   \n",
       "SpokaneSwingBridge              -0.048073      -0.049937   \n",
       "\n",
       "                           RooseveltWay_NE80thSt  SpokaneSwingBridge  \n",
       "RoadSurfaceTemperature                  0.194951            0.029030  \n",
       "AirTemperature                          0.334153            0.046199  \n",
       "35thAveSW_SWMyrtleSt                   -0.195604           -0.050147  \n",
       "AlbroPlaceAirportWay                   -0.192896           -0.049453  \n",
       "AuroraBridge                           -0.191413           -0.049073  \n",
       "HarborAveUpperNorthBridge              -0.075249           -0.019292  \n",
       "MagnoliaBridge                         -0.187512           -0.048073  \n",
       "NE45StViaduct                          -0.194784           -0.049937  \n",
       "RooseveltWay_NE80thSt                   1.000000           -0.050188  \n",
       "SpokaneSwingBridge                     -0.050188            1.000000  "
      ]
     },
     "execution_count": 14,
     "metadata": {},
     "output_type": "execute_result"
    }
   ],
   "source": [
    "# Generate a correlation matrix after the one-hot encoding\n",
    "corr = df.drop('RecordId', axis=1).corr()\n",
    "corr"
   ]
  },
  {
   "cell_type": "code",
   "execution_count": 15,
   "metadata": {},
   "outputs": [
    {
     "data": {
      "image/png": "[encoded data removed]",
      "text/plain": [
       "<Figure size 720x504 with 2 Axes>"
      ]
     },
     "metadata": {
      "needs_background": "light"
     },
     "output_type": "display_data"
    }
   ],
   "source": [
    "# Show the correlation matrix visually as a heatmap\n",
    "plt.figure(figsize=(10, 7))\n",
    "sns.heatmap(corr, annot=True);"
   ]
  },
  {
   "cell_type": "markdown",
   "metadata": {},
   "source": [
    "We can observe that there's a strong correlation between road surface temperature and air temperature (close to 1). Interestingly, the Albro Place Airport Way station also has a strong but negative correlation to the two temperature measures. For all other sensor stations, there appear to have low to neglegiable correlation to our target feature of road surface temperature."
   ]
  },
  {
   "cell_type": "markdown",
   "metadata": {},
   "source": [
    "---\n",
    "## Training and Evaluating Model\n",
    "In this section of the notebook, we will be training and evaluating 4 models: linear regression, ridge, lasso, and elastic net. The models will learn on training set and evaluated on the testing set, and their predictions will be evaluated using RMSE and R-squared score.\n",
    "\n",
    "The target feature will be the road surface temperature, and the learning features are the station names (after one-hot encoded) and the air temperature collected by the sensor stations."
   ]
  },
  {
   "cell_type": "code",
   "execution_count": 16,
   "metadata": {},
   "outputs": [],
   "source": [
    "drop_labels = ['StationName', 'StationLocation', 'DateTime', 'RecordId', 'RoadSurfaceTemperature']\n",
    "\n",
    "# Keep only the station name and air temperature for learning features\n",
    "X = df.drop(drop_labels, axis=1)\n",
    "y = df['RoadSurfaceTemperature']"
   ]
  },
  {
   "cell_type": "code",
   "execution_count": 17,
   "metadata": {},
   "outputs": [],
   "source": [
    "# Perform train-test split with 80-20% ratio\n",
    "X_train, X_test, y_train, y_test = train_test_split(X, y, test_size=0.2, random_state=42)"
   ]
  },
  {
   "cell_type": "markdown",
   "metadata": {},
   "source": [
    "#### Linear Regression"
   ]
  },
  {
   "cell_type": "code",
   "execution_count": 18,
   "metadata": {},
   "outputs": [
    {
     "data": {
      "text/plain": [
       "LinearRegression()"
      ]
     },
     "execution_count": 18,
     "metadata": {},
     "output_type": "execute_result"
    }
   ],
   "source": [
    "clf = LinearRegression()\n",
    "clf.fit(X_train, y_train)"
   ]
  },
  {
   "cell_type": "code",
   "execution_count": 19,
   "metadata": {},
   "outputs": [],
   "source": [
    "y_pred = clf.predict(X_test)"
   ]
  },
  {
   "cell_type": "code",
   "execution_count": 20,
   "metadata": {},
   "outputs": [
    {
     "name": "stdout",
     "output_type": "stream",
     "text": [
      "Test RMSE:  4.6669740518016845\n"
     ]
    }
   ],
   "source": [
    "mse = mean_squared_error(y_test, y_pred)\n",
    "rmse = np.sqrt(mse)\n",
    "\n",
    "print('Test RMSE: ', rmse)"
   ]
  },
  {
   "cell_type": "code",
   "execution_count": 21,
   "metadata": {},
   "outputs": [
    {
     "data": {
      "text/plain": [
       "0.9667357266012668"
      ]
     },
     "execution_count": 21,
     "metadata": {},
     "output_type": "execute_result"
    }
   ],
   "source": [
    "r2_score(y_test, y_pred)"
   ]
  },
  {
   "cell_type": "markdown",
   "metadata": {},
   "source": [
    "#### Ridge Regression"
   ]
  },
  {
   "cell_type": "code",
   "execution_count": 22,
   "metadata": {},
   "outputs": [],
   "source": [
    "from sklearn.linear_model import Ridge\n",
    "\n",
    "\n",
    "param_grid = [{\n",
    "    'alpha': [1, 1e-1, 1e-2, 1e-3, 1e-4]\n",
    "}]\n",
    "\n",
    "clf = Ridge()\n",
    "\n",
    "grid_search = GridSearchCV(clf, param_grid, cv=5,\n",
    "                           scoring='neg_mean_squared_error',\n",
    "                           return_train_score=True)\n",
    "\n",
    "grid_search.fit(X_train, y_train);"
   ]
  },
  {
   "cell_type": "code",
   "execution_count": 23,
   "metadata": {},
   "outputs": [],
   "source": [
    "#clf = Ridge(alpha=1e-4, random_state=42)\n",
    "#clf.fit(X_train, y_train)"
   ]
  },
  {
   "cell_type": "code",
   "execution_count": 24,
   "metadata": {},
   "outputs": [
    {
     "data": {
      "text/plain": [
       "{'alpha': 0.1}"
      ]
     },
     "execution_count": 24,
     "metadata": {},
     "output_type": "execute_result"
    }
   ],
   "source": [
    "grid_search.best_params_"
   ]
  },
  {
   "cell_type": "code",
   "execution_count": 25,
   "metadata": {},
   "outputs": [
    {
     "data": {
      "text/plain": [
       "Ridge(alpha=0.1)"
      ]
     },
     "execution_count": 25,
     "metadata": {},
     "output_type": "execute_result"
    }
   ],
   "source": [
    "best_clf = grid_search.best_estimator_\n",
    "best_clf.fit(X_train, y_train)"
   ]
  },
  {
   "cell_type": "code",
   "execution_count": 26,
   "metadata": {},
   "outputs": [],
   "source": [
    "y_pred = best_clf.predict(X_test)"
   ]
  },
  {
   "cell_type": "code",
   "execution_count": 27,
   "metadata": {},
   "outputs": [
    {
     "name": "stdout",
     "output_type": "stream",
     "text": [
      "Test RMSE:  4.6669731188767845\n"
     ]
    }
   ],
   "source": [
    "mse = mean_squared_error(y_test, y_pred)\n",
    "rmse = np.sqrt(mse)\n",
    "\n",
    "print('Test RMSE: ', rmse)"
   ]
  },
  {
   "cell_type": "code",
   "execution_count": 28,
   "metadata": {},
   "outputs": [
    {
     "data": {
      "text/plain": [
       "0.9667357399002763"
      ]
     },
     "execution_count": 28,
     "metadata": {},
     "output_type": "execute_result"
    }
   ],
   "source": [
    "r2_score(y_test, y_pred)"
   ]
  },
  {
   "cell_type": "markdown",
   "metadata": {},
   "source": [
    "#### Lasso Regression"
   ]
  },
  {
   "cell_type": "code",
   "execution_count": 29,
   "metadata": {},
   "outputs": [
    {
     "data": {
      "text/plain": [
       "Lasso(alpha=1e-06)"
      ]
     },
     "execution_count": 29,
     "metadata": {},
     "output_type": "execute_result"
    }
   ],
   "source": [
    "from sklearn.linear_model import Lasso\n",
    "\n",
    "clf = Lasso(alpha=1e-6)\n",
    "clf.fit(X_train, y_train)"
   ]
  },
  {
   "cell_type": "code",
   "execution_count": 30,
   "metadata": {},
   "outputs": [],
   "source": [
    "y_pred = clf.predict(X_test)"
   ]
  },
  {
   "cell_type": "code",
   "execution_count": 31,
   "metadata": {},
   "outputs": [
    {
     "name": "stdout",
     "output_type": "stream",
     "text": [
      "Test RMSE:  4.666973121388365\n"
     ]
    }
   ],
   "source": [
    "mse = mean_squared_error(y_test, y_pred)\n",
    "rmse = np.sqrt(mse)\n",
    "\n",
    "print('Test RMSE: ', rmse)"
   ]
  },
  {
   "cell_type": "code",
   "execution_count": 32,
   "metadata": {},
   "outputs": [
    {
     "data": {
      "text/plain": [
       "0.9667357398644733"
      ]
     },
     "execution_count": 32,
     "metadata": {},
     "output_type": "execute_result"
    }
   ],
   "source": [
    "r2_score(y_test, y_pred)"
   ]
  },
  {
   "cell_type": "markdown",
   "metadata": {},
   "source": [
    "#### Elastic Net"
   ]
  },
  {
   "cell_type": "code",
   "execution_count": 33,
   "metadata": {},
   "outputs": [
    {
     "data": {
      "text/plain": [
       "ElasticNet(alpha=0.001, max_iter=4000)"
      ]
     },
     "execution_count": 33,
     "metadata": {},
     "output_type": "execute_result"
    }
   ],
   "source": [
    "from sklearn.linear_model import ElasticNet\n",
    "\n",
    "clf = ElasticNet(alpha=1e-3, max_iter=4000)\n",
    "clf.fit(X_train, y_train)"
   ]
  },
  {
   "cell_type": "code",
   "execution_count": 34,
   "metadata": {},
   "outputs": [],
   "source": [
    "y_pred = clf.predict(X_test)"
   ]
  },
  {
   "cell_type": "code",
   "execution_count": 35,
   "metadata": {},
   "outputs": [
    {
     "name": "stdout",
     "output_type": "stream",
     "text": [
      "Test RMSE:  4.6670913187762135\n"
     ]
    }
   ],
   "source": [
    "mse = mean_squared_error(y_test, y_pred)\n",
    "rmse = np.sqrt(mse)\n",
    "\n",
    "print('Test RMSE: ', rmse)"
   ]
  },
  {
   "cell_type": "code",
   "execution_count": 36,
   "metadata": {},
   "outputs": [
    {
     "data": {
      "text/plain": [
       "0.9667340549186452"
      ]
     },
     "execution_count": 36,
     "metadata": {},
     "output_type": "execute_result"
    }
   ],
   "source": [
    "r2_score(y_test, y_pred)"
   ]
  },
  {
   "cell_type": "markdown",
   "metadata": {},
   "source": [
    "---\n",
    "### Brief Conclusion\n",
    "As we can observe from each model's RMSE and R-squared score, **they all provide somewhat equivalent performance on this dataset**, with a RMSE of around 4.67 degree Fahrenheit and a R-squared score of 0.9667. Thus, any of the models can be said to perform well.\n",
    "\n",
    "This actually isn't a surprising result, given that we have already observed **(1)** the strong correlation between the two temperature measures and **(2)** the weak correlation between most sensor stations to the target feature. The predictions could simply be a reflection of the road surface temperature's close relation to the air temperature feature."
   ]
  },
  {
   "cell_type": "code",
   "execution_count": null,
   "metadata": {},
   "outputs": [],
   "source": []
  }
 ],
 "metadata": {
  "kernelspec": {
   "display_name": "Python 3",
   "language": "python",
   "name": "python3"
  },
  "language_info": {
   "codemirror_mode": {
    "name": "ipython",
    "version": 3
   },
   "file_extension": ".py",
   "mimetype": "text/x-python",
   "name": "python",
   "nbconvert_exporter": "python",
   "pygments_lexer": "ipython3",
   "version": "3.8.3"
  }
 },
 "nbformat": 4,
 "nbformat_minor": 4
}
