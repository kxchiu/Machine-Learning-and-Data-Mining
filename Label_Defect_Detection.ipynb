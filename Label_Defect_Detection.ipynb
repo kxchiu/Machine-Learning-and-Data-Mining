{
  "nbformat": 4,
  "nbformat_minor": 0,
  "metadata": {
    "accelerator": "GPU",
    "colab": {
      "name": "Label_Defect_Detection.ipynb",
      "provenance": [],
      "collapsed_sections": []
    },
    "kernelspec": {
      "display_name": "Python 3",
      "name": "python3"
    },
    "language_info": {
      "name": "python"
    }
  },
  "cells": [
    {
      "cell_type": "markdown",
      "metadata": {
        "id": "m1dQeDLn0vtn"
      },
      "source": [
        "# Label Defect Detection\n",
        "This small project is part of my learning process and one of my experiments on defect detection using image classification with some preprocessing, which will serve as a baseline for other experiments.\n",
        "\n",
        "Defects in small printed labels -- less than 5 mm in width and height -- often come in many forms: smudges, character defects, sticker defects, etc. With the labels being part of the product, it is importance to also ensure the quality of the labels in the quality control process. While defect detection approaches which I have surveyed usually involves a detector plus classifier structure (essentially an object detection task), I have been very curious as to how \"simple\" image classification would perform in such task (hence why I said this is part of my learning process)."
      ]
    },
    {
      "cell_type": "markdown",
      "metadata": {
        "id": "v0x-Gkw7SgqX"
      },
      "source": [
        "In this notebook, I will be using transfer learning with **Inception ResNet V2** and techniques including applying **data augmentation** on the training set and **early stopping** in the training process. The resulting model will then be evaluated on the un-preprocessed testing set."
      ]
    },
    {
      "cell_type": "code",
      "metadata": {
        "id": "4HLFNjS6Mt9Z"
      },
      "source": [
        "# Import necessary libraries\n",
        "import tensorflow as tf\n",
        "from tensorflow import keras\n",
        "from tensorflow.keras import backend as K\n",
        "from tensorflow.keras.layers import Dense, Activation,Dropout,Conv2D, MaxPooling2D,BatchNormalization, Flatten\n",
        "from tensorflow.keras.optimizers import Adam, Adamax\n",
        "from tensorflow.keras.metrics import categorical_crossentropy\n",
        "from tensorflow.keras import regularizers\n",
        "from tensorflow.keras.preprocessing.image import ImageDataGenerator\n",
        "from tensorflow.keras.models import Model, load_model, Sequential\n",
        "from keras.preprocessing import image\n",
        "import numpy as np\n",
        "import pandas as pd\n",
        "import shutil\n",
        "import time\n",
        "import cv2 as cv\n",
        "from tqdm import tqdm\n",
        "from sklearn.model_selection import train_test_split\n",
        "import matplotlib.pyplot as plt\n",
        "from matplotlib.pyplot import imshow\n",
        "import os\n",
        "import seaborn as sns\n",
        "sns.set_style('darkgrid')\n",
        "from PIL import Image\n",
        "from sklearn.metrics import confusion_matrix, classification_report\n",
        "from IPython.core.display import display, HTML\n",
        "from tqdm import tqdm\n",
        "import glob"
      ],
      "execution_count": null,
      "outputs": []
    },
    {
      "cell_type": "markdown",
      "metadata": {
        "id": "MMNTXgxq7CJz"
      },
      "source": [
        "### Image Preprocessing\n",
        "#### **Read in Dataset**"
      ]
    },
    {
      "cell_type": "code",
      "metadata": {
        "id": "glmxCLl4Ny2v"
      },
      "source": [
        "# Path to image dataset\n",
        "sdir=r'A-ODT'"
      ],
      "execution_count": null,
      "outputs": []
    },
    {
      "cell_type": "code",
      "metadata": {
        "id": "7-CKjoHNN3gY"
      },
      "source": [
        "# Put image file paths and associated labels into lists\n",
        "filepaths = []\n",
        "classpaths = []\n",
        "labels = []\n",
        "classlist = os.listdir(sdir)\n",
        "for klass in classlist:\n",
        "    classpath = os.path.join(sdir,klass)\n",
        "    if os.path.isdir(classpath):\n",
        "        flist = os.listdir(classpath)\n",
        "        for f in flist:\n",
        "            fpath = os.path.join(classpath,f)\n",
        "            classpaths.append(classpath)\n",
        "            filepaths.append(fpath)\n",
        "            labels.append(klass)"
      ],
      "execution_count": null,
      "outputs": []
    },
    {
      "cell_type": "code",
      "metadata": {
        "colab": {
          "base_uri": "https://localhost:8080/"
        },
        "id": "BlFu8pu-OAjO",
        "outputId": "c52c39b0-6315-42d6-d9d4-b84713c1ef38"
      },
      "source": [
        "# Create a dataframe for the dataset\n",
        "Fseries = pd.Series(filepaths, name='filepaths')\n",
        "Cseries = pd.Series(classpaths, name='classpaths')\n",
        "Lseries = pd.Series(labels, name='labels')    \n",
        "df = pd.concat([Fseries, Cseries, Lseries], axis=1)\n",
        "print(df['labels'].value_counts())"
      ],
      "execution_count": null,
      "outputs": [
        {
          "output_type": "stream",
          "name": "stdout",
          "text": [
            "OK    191\n",
            "NG    180\n",
            "Name: labels, dtype: int64\n"
          ]
        }
      ]
    },
    {
      "cell_type": "markdown",
      "metadata": {
        "id": "27_hGHAI8Buq"
      },
      "source": [
        "In the dataset, we have a total of 191 OK images and 180 NG images. Since this is a small dataset that covers a wide range of NG types, we will want to do some data augmentation to increase the diversity of our training set in the preprocessing step."
      ]
    },
    {
      "cell_type": "code",
      "metadata": {
        "colab": {
          "base_uri": "https://localhost:8080/"
        },
        "id": "egnAXwRCOUyS",
        "outputId": "f98e0800-b64f-4e0a-ac2e-5f612724f1d0"
      },
      "source": [
        "# Perform train-test split\n",
        "train_split=.8\n",
        "test_split=.1\n",
        "dummy_split=test_split/(1-train_split)\n",
        "\n",
        "train_df, dummy_df=train_test_split(df, train_size=train_split, shuffle=True, random_state=42, stratify=labels)\n",
        "test_df, valid_df=train_test_split(dummy_df, train_size=dummy_split, shuffle=True, random_state=42)\n",
        "print ('train_df length: ', len(train_df), '  test_df length: ', len(test_df), '  valid_df length: ', len(valid_df))"
      ],
      "execution_count": null,
      "outputs": [
        {
          "output_type": "stream",
          "name": "stdout",
          "text": [
            "train_df length:  296   test_df length:  37   valid_df length:  38\n"
          ]
        }
      ]
    },
    {
      "cell_type": "code",
      "metadata": {
        "colab": {
          "base_uri": "https://localhost:8080/"
        },
        "id": "ZZ62R-9NObFh",
        "outputId": "30bc5ef8-a90d-4d83-dea0-2534d804d600"
      },
      "source": [
        "print (len(train_df[train_df['labels'] == 'NG']))\n",
        "print (len(test_df[test_df['labels'] == 'NG']))\n",
        "print (len(valid_df[valid_df['labels'] == 'NG']))"
      ],
      "execution_count": null,
      "outputs": [
        {
          "output_type": "stream",
          "name": "stdout",
          "text": [
            "144\n",
            "17\n",
            "19\n"
          ]
        }
      ]
    },
    {
      "cell_type": "code",
      "metadata": {
        "colab": {
          "base_uri": "https://localhost:8080/",
          "height": 203
        },
        "id": "OJ9XZCkq50_Q",
        "outputId": "234fcc16-02c4-4cd5-e65a-4b9821ccb3f0"
      },
      "source": [
        "train_df.tail()"
      ],
      "execution_count": null,
      "outputs": [
        {
          "output_type": "execute_result",
          "data": {
            "text/html": [
              "<div>\n",
              "<style scoped>\n",
              "    .dataframe tbody tr th:only-of-type {\n",
              "        vertical-align: middle;\n",
              "    }\n",
              "\n",
              "    .dataframe tbody tr th {\n",
              "        vertical-align: top;\n",
              "    }\n",
              "\n",
              "    .dataframe thead th {\n",
              "        text-align: right;\n",
              "    }\n",
              "</style>\n",
              "<table border=\"1\" class=\"dataframe\">\n",
              "  <thead>\n",
              "    <tr style=\"text-align: right;\">\n",
              "      <th></th>\n",
              "      <th>filepaths</th>\n",
              "      <th>classpaths</th>\n",
              "      <th>labels</th>\n",
              "    </tr>\n",
              "  </thead>\n",
              "  <tbody>\n",
              "    <tr>\n",
              "      <th>208</th>\n",
              "      <td>A-ODT/NG/TW1YX13701748-1338.jpg</td>\n",
              "      <td>A-ODT/NG</td>\n",
              "      <td>NG</td>\n",
              "    </tr>\n",
              "    <tr>\n",
              "      <th>104</th>\n",
              "      <td>A-ODT/OK/TW1YX13703144-2244.jpg</td>\n",
              "      <td>A-ODT/OK</td>\n",
              "      <td>OK</td>\n",
              "    </tr>\n",
              "    <tr>\n",
              "      <th>247</th>\n",
              "      <td>A-ODT/NG/TW1YX13605734.jpg</td>\n",
              "      <td>A-ODT/NG</td>\n",
              "      <td>NG</td>\n",
              "    </tr>\n",
              "    <tr>\n",
              "      <th>148</th>\n",
              "      <td>A-ODT/OK/TW1YX13703283-2378.jpg</td>\n",
              "      <td>A-ODT/OK</td>\n",
              "      <td>OK</td>\n",
              "    </tr>\n",
              "    <tr>\n",
              "      <th>220</th>\n",
              "      <td>A-ODT/NG/TW1YX13606182-338.jpg</td>\n",
              "      <td>A-ODT/NG</td>\n",
              "      <td>NG</td>\n",
              "    </tr>\n",
              "  </tbody>\n",
              "</table>\n",
              "</div>"
            ],
            "text/plain": [
              "                           filepaths classpaths labels\n",
              "208  A-ODT/NG/TW1YX13701748-1338.jpg   A-ODT/NG     NG\n",
              "104  A-ODT/OK/TW1YX13703144-2244.jpg   A-ODT/OK     OK\n",
              "247       A-ODT/NG/TW1YX13605734.jpg   A-ODT/NG     NG\n",
              "148  A-ODT/OK/TW1YX13703283-2378.jpg   A-ODT/OK     OK\n",
              "220   A-ODT/NG/TW1YX13606182-338.jpg   A-ODT/NG     NG"
            ]
          },
          "metadata": {},
          "execution_count": 7
        }
      ]
    },
    {
      "cell_type": "markdown",
      "metadata": {
        "id": "Aen2bGMT9rth"
      },
      "source": [
        "#### **Data Preprocessing**\n",
        "In the data preprocessing step, I'm applying the following transformations on the training set:\n",
        "\n",
        "\n",
        "* Modify color temperature (warm & cold)\n",
        "* Convert to grayscale image\n",
        "* Increase brightness\n",
        "\n",
        "I initially thought about using cropping, flipping, and rotation. However, after a few trial experiments, I noticed that these data augmentation options may not best suit my case. The input label images in the quality control process are all of (almost) fixed size and orientation, and introducing these options reduces the model's ability to accurately classify the images.\n"
      ]
    },
    {
      "cell_type": "code",
      "metadata": {
        "id": "K04k0zym678-"
      },
      "source": [
        "# Helper function to alter the color channel of the image set\n",
        "def modify_color_temperature(img, warm):\n",
        "    imgB = img[:,:,0]\n",
        "    imgG = img[:,:,1]\n",
        "    imgR = img[:,:,2]\n",
        "    \n",
        "    if warm:\n",
        "        bAvg = cv.mean(imgB)[0] + 20\n",
        "        gAvg = cv.mean(imgG)[0] + 20\n",
        "        rAvg = cv.mean(imgR)[0]\n",
        "        avgGray = (int)(bAvg + gAvg + rAvg) / 3\n",
        "    else:\n",
        "        bAvg = cv.mean(imgB)[0]\n",
        "        gAvg = cv.mean(imgG)[0] + 20\n",
        "        rAvg = cv.mean(imgR)[0] + 20\n",
        "        avgGray = (int)(bAvg + gAvg + rAvg) / 3\n",
        "    \n",
        "    bCoef = avgGray / bAvg\n",
        "    gCoef = avgGray / gAvg\n",
        "    rCoef = avgGray / rAvg\n",
        "    imgB = np.floor((imgB * bCoef))\n",
        "    imgG = np.floor((imgG * gCoef))\n",
        "    imgR = np.floor((imgR * rCoef))\n",
        "    \n",
        "    imgb = imgB\n",
        "    imgb[imgb > 255] = 255\n",
        "    imgg = imgG\n",
        "    imgg[imgg > 255] = 255\n",
        "    imgr = imgR\n",
        "    imgr[imgr > 255] = 255\n",
        "    \n",
        "    col_rgb = np.dstack((imgb, imgg, imgr)).astype(np.uint8)\n",
        "    \n",
        "    return col_rgb\n",
        "\n",
        "# Helper function to further adjust the brightness of the images\n",
        "def adjust_brightness(image):\n",
        "    float_img = image.astype(np.float32)\n",
        "    float_img = float_img / 255.0\n",
        "    \n",
        "    lightness = 25\n",
        "    \n",
        "    hls_img = cv.cvtColor(float_img, cv.COLOR_BGR2HLS)\n",
        "    hls_img[:,:,1] = (1 + lightness / 100.0) * hls_img[:,:,1]\n",
        "    hls_img[:,:,1][hls_img[:,:,1] > 1] = 1\n",
        "    \n",
        "    res_img = cv.cvtColor(hls_img, cv.COLOR_HLS2BGR)\n",
        "    res_img = ((res_img * 255).astype(np.uint8))\n",
        "    \n",
        "    return res_img"
      ],
      "execution_count": null,
      "outputs": []
    },
    {
      "cell_type": "code",
      "metadata": {
        "id": "hArOaJ_k59mN"
      },
      "source": [
        "# Preprocess data and return a dataframe with augmented images\n",
        "def preprocess_data(temp_df):\n",
        "  data = []\n",
        "  for index, row in temp_df.iterrows():\n",
        "    img_path = row['filepaths']\n",
        "    classpath = row['classpaths']\n",
        "    label = row['labels']\n",
        "\n",
        "    img = cv.imread(img_path)\n",
        "\n",
        "    # Modify color temperature of images to warmer colors\n",
        "    img_warm = modify_color_temperature(img, warm=True)\n",
        "    img_warm_path = os.path.join(classpath, \"mWarm_\" + os.path.basename(img_path))\n",
        "    cv.imwrite(img_warm_path, img_warm)\n",
        "\n",
        "    # Modify color temperature of images to colder colors\n",
        "    img_cold = modify_color_temperature(img, warm=False)\n",
        "    img_cold_path = os.path.join(classpath, \"mCold_\" + os.path.basename(img_path))\n",
        "    cv.imwrite(img_cold_path, img_cold)\n",
        "\n",
        "    # Convert to grayscale\n",
        "    img_gray = cv.imread(img_path, 0)\n",
        "    img_gray_path = os.path.join(classpath, \"g_\" + os.path.basename(img_path))\n",
        "    cv.imwrite(img_gray_path, img_gray)\n",
        "\n",
        "    data.append([img_warm_path, classpath, label])\n",
        "    data.append([img_cold_path, classpath, label])\n",
        "    data.append([img_gray_path, classpath, label])\n",
        "\n",
        "  for index, row in temp_df.iterrows():\n",
        "    img_path = row['filepaths']\n",
        "    classpath = row['classpaths']\n",
        "    label = row['labels']\n",
        "\n",
        "    img = cv.imread(img_path)\n",
        "\n",
        "    # Adjust brightness for all training images (including augmented)\n",
        "    img = adjust_brightness(img)\n",
        "    img_bright_path = os.path.join(classpath, \"b_\" + os.path.basename(img_path))\n",
        "    cv.imwrite(img_bright_path, img)\n",
        "\n",
        "    data.append([img_bright_path, classpath, label])\n",
        "\n",
        "  aug_df = pd.DataFrame(data, columns=['filepaths', 'classpaths', 'labels'])\n",
        "  return aug_df"
      ],
      "execution_count": null,
      "outputs": []
    },
    {
      "cell_type": "code",
      "metadata": {
        "colab": {
          "base_uri": "https://localhost:8080/"
        },
        "id": "GPv0atBhatWO",
        "outputId": "56ef5dbf-1ba7-46ab-e717-3c6c6b23f45a"
      },
      "source": [
        "# Generate the augmented dataframe for training set\n",
        "aug_df = preprocess_data(train_df)\n",
        "train_df = pd.concat([aug_df, train_df], ignore_index = True, axis = 0)\n",
        "len(train_df)"
      ],
      "execution_count": null,
      "outputs": [
        {
          "output_type": "execute_result",
          "data": {
            "text/plain": [
              "1480"
            ]
          },
          "metadata": {},
          "execution_count": 10
        }
      ]
    },
    {
      "cell_type": "code",
      "metadata": {
        "colab": {
          "base_uri": "https://localhost:8080/"
        },
        "id": "FQx7X_EXbjRv",
        "outputId": "f36a9ee7-ba18-4443-917c-e9926bb318e9"
      },
      "source": [
        "print (len(train_df[train_df['labels'] == 'NG']))\n",
        "print (len(test_df[test_df['labels'] == 'NG']))\n",
        "print (len(valid_df[valid_df['labels'] == 'NG']))"
      ],
      "execution_count": null,
      "outputs": [
        {
          "output_type": "stream",
          "name": "stdout",
          "text": [
            "720\n",
            "17\n",
            "19\n"
          ]
        }
      ]
    },
    {
      "cell_type": "markdown",
      "metadata": {
        "id": "MhbWI4DGAhGq"
      },
      "source": [
        "After data augmentation, we can see that the number of images in our training set have greatly increased. **The validation set and testing set are untouched** since we wouold want our model to be trained on a diversed augmented data while being tested on \"real\" data."
      ]
    },
    {
      "cell_type": "code",
      "metadata": {
        "colab": {
          "base_uri": "https://localhost:8080/"
        },
        "id": "X7NP6NkYOfyC",
        "outputId": "11ed4331-0969-4007-802d-86c9aad22eac"
      },
      "source": [
        "height = 128\n",
        "width = 128\n",
        "\n",
        "channels = 3\n",
        "batch_size = 40\n",
        "img_shape = (height, width, channels)\n",
        "img_size = (height, width)\n",
        "length = len(test_df)\n",
        "test_batch_size = sorted([int(length/n) for n in range(1,length+1) if length % n == 0 and length / n <= 80],reverse=True)[0]  \n",
        "test_steps = int(length/test_batch_size)\n",
        "print('Test batch size: ' ,test_batch_size, '  Test steps: ', test_steps)"
      ],
      "execution_count": null,
      "outputs": [
        {
          "output_type": "stream",
          "name": "stdout",
          "text": [
            "Test batch size:  37   Test steps:  1\n"
          ]
        }
      ]
    },
    {
      "cell_type": "markdown",
      "metadata": {
        "id": "GNvK_xXuIkYM"
      },
      "source": [
        "In the following cell, I'm using the ImageDataGenerator for two things:\n",
        "\n",
        "\n",
        "1. Scale images to between -1 and 1\n",
        "2. Further generate batches of data with provided data augmentation options\n",
        "\n"
      ]
    },
    {
      "cell_type": "code",
      "metadata": {
        "colab": {
          "base_uri": "https://localhost:8080/"
        },
        "id": "EgyOhVUV1eno",
        "outputId": "89f9684b-4a8a-4d9d-f745-708a9b233c76"
      },
      "source": [
        "def scalar(img):\n",
        "    return img / 127.5 - 1  # scale pixel between -1 and 1\n",
        "\n",
        "# Use ImageDataGenerator to scale and further augment data\n",
        "gen = ImageDataGenerator(preprocessing_function=scalar, channel_shift_range=0.2, brightness_range=[0.8,1.2])\n",
        "\n",
        "train_gen = gen.flow_from_dataframe(train_df, x_col='filepaths', y_col='labels', \n",
        "                 target_size=img_size, class_mode='categorical',\n",
        "                 color_mode='rgb', shuffle=True, batch_size=batch_size)\n",
        "test_gen = gen.flow_from_dataframe(test_df, x_col='filepaths', y_col='labels', \n",
        "                 target_size=img_size, class_mode='categorical',\n",
        "                 color_mode='rgb', shuffle=False, batch_size=test_batch_size)\n",
        "valid_gen = gen.flow_from_dataframe( valid_df, x_col='filepaths', y_col='labels', \n",
        "                 target_size=img_size, class_mode='categorical',\n",
        "                 color_mode='rgb', shuffle=True, batch_size=batch_size)\n",
        "classes = list(train_gen.class_indices.keys())\n",
        "print(classes)\n",
        "class_count = len(classes)\n",
        "train_steps = int(len(train_gen.labels)/batch_size)"
      ],
      "execution_count": null,
      "outputs": [
        {
          "output_type": "stream",
          "name": "stdout",
          "text": [
            "Found 1480 validated image filenames belonging to 2 classes.\n",
            "Found 37 validated image filenames belonging to 2 classes.\n",
            "Found 38 validated image filenames belonging to 2 classes.\n",
            "['NG', 'OK']\n"
          ]
        }
      ]
    },
    {
      "cell_type": "code",
      "metadata": {
        "id": "yRv2BnohOm-k"
      },
      "source": [
        "def show_image_samples(gen):\n",
        "    test_dict=test_gen.class_indices\n",
        "    classes=list(test_dict.keys())    \n",
        "    images,labels=next(gen) # get a sample batch from the generator \n",
        "    plt.figure(figsize=(15, 15))\n",
        "    length=len(labels)\n",
        "    if length<25:   #show maximum of 25 images\n",
        "        r=length\n",
        "    else:\n",
        "        r=25\n",
        "    for i in range(r):\n",
        "        plt.subplot(5, 5, i + 1)\n",
        "        image=(images[i]+1 )/2 # scale images between 0 and 1 becaue pre-processor set them between -1 and +1\n",
        "        plt.imshow(image)\n",
        "        index=np.argmax(labels[i])\n",
        "        class_name=classes[index]\n",
        "        plt.title(class_name, color='blue', fontsize=16)\n",
        "        plt.axis('off')\n",
        "    plt.show()"
      ],
      "execution_count": null,
      "outputs": []
    },
    {
      "cell_type": "code",
      "metadata": {
        "id": "Lx58_nlLQO_y"
      },
      "source": [
        "# show_image_samples(train_gen)"
      ],
      "execution_count": null,
      "outputs": []
    },
    {
      "cell_type": "markdown",
      "metadata": {
        "id": "b71mryL1CV93"
      },
      "source": [
        "## Model Training and Evaluation\n",
        "Although the OK and NG images are close to being balanced (191:180), we can compute and adjust their class weight so that the model will take it into account in training."
      ]
    },
    {
      "cell_type": "code",
      "metadata": {
        "colab": {
          "base_uri": "https://localhost:8080/"
        },
        "id": "wsGb-kVqOkM6",
        "outputId": "5c9a82a9-b4df-4e24-d92b-24ed57106fe3"
      },
      "source": [
        "# Compute class weight\n",
        "class_weight = {}\n",
        "train_dict = train_gen.class_indices\n",
        "classes = list(train_dict.keys())\n",
        "class_count = len(classes)\n",
        "labels = train_gen.labels\n",
        "count_array = np.zeros((class_count))\n",
        "for label in labels:\n",
        "    for value in train_dict.values():\n",
        "        if label == value:\n",
        "            count_array[value] +=1    \n",
        "#print (count_array)\n",
        "max_samples = np.max(count_array)\n",
        "msg = '{0:^30s}{1:^10s}{2:^9s}'.format('Class', 'Samples', 'Weight')\n",
        "print(msg)\n",
        "for i in range (class_count):\n",
        "    class_weight[i] = max_samples/count_array[i]\n",
        "    msg = f'{classes[i]:^30s}{str(count_array[i]):^10s}{class_weight[i]:^9.5f}'\n",
        "    print(msg)"
      ],
      "execution_count": null,
      "outputs": [
        {
          "output_type": "stream",
          "name": "stdout",
          "text": [
            "            Class              Samples   Weight  \n",
            "              NG                720.0    1.05556 \n",
            "              OK                760.0    1.00000 \n"
          ]
        }
      ]
    },
    {
      "cell_type": "markdown",
      "metadata": {
        "id": "eXk4NyMBDDjt"
      },
      "source": [
        "#### Model Training\n",
        "Here, I'm using the pre-trained Inception ResNet V2 on Imagenet as the base model and change the output layer to meet our class count of 2 (OK vs. NG). The model is trained on the training set and validated on the validation set."
      ]
    },
    {
      "cell_type": "code",
      "metadata": {
        "id": "pnS10QZSQTHR"
      },
      "source": [
        "# Download the pre-trained Inception ResNet V2 model\n",
        "model_name = 'InceptionResNetV2'\n",
        "base_model = tf.keras.applications.InceptionResNetV2(include_top = False, \n",
        "          weights = \"imagenet\", input_shape = img_shape, pooling = 'max')\n",
        "\n",
        "# Set the output layer to predict by the number of classes in the dataset\n",
        "x = base_model.output\n",
        "x = keras.layers.BatchNormalization(axis=-1, momentum=0.99, epsilon=0.001 )(x)\n",
        "x = Dense(256, kernel_regularizer = regularizers.l2(l = 0.016),\n",
        "      activity_regularizer=regularizers.l1(0.006),\n",
        "      bias_regularizer=regularizers.l1(0.006) ,activation='relu')(x)\n",
        "x = Dropout(rate=.45, seed=123)(x)\n",
        "output = Dense(class_count, activation='softmax')(x)\n",
        "\n",
        "model = Model(inputs=base_model.input, outputs=output)\n",
        "#model.compile(Adamax(lr=.001), loss='categorical_crossentropy', metrics=['accuracy']) \n",
        "model.compile(Adam(learning_rate=3e-4), loss='categorical_crossentropy', metrics=['accuracy']) "
      ],
      "execution_count": null,
      "outputs": []
    },
    {
      "cell_type": "code",
      "metadata": {
        "id": "lfYuwOPDQQ5n"
      },
      "source": [
        "def print_in_color(txt_msg,fore_tupple,back_tupple,):\n",
        "    #prints the text_msg in the foreground color specified by fore_tupple with the background specified by back_tupple \n",
        "    #text_msg is the text, fore_tupple is foregroud color tupple (r,g,b), back_tupple is background tupple (r,g,b)\n",
        "    rf,gf,bf=fore_tupple\n",
        "    rb,gb,bb=back_tupple\n",
        "    msg='{0}' + txt_msg\n",
        "    mat='\\33[38;2;' + str(rf) +';' + str(gf) + ';' + str(bf) + ';48;2;' + str(rb) + ';' +str(gb) + ';' + str(bb) +'m' \n",
        "    print(msg .format(mat), flush=True)\n",
        "    print('\\33[0m', flush=True) # returns default print color to back to black\n",
        "    return"
      ],
      "execution_count": null,
      "outputs": []
    },
    {
      "cell_type": "code",
      "metadata": {
        "id": "GZDaUIePQU3z"
      },
      "source": [
        "# Learning rate scheduler\n",
        "class LRA(keras.callbacks.Callback):\n",
        "    reset=False\n",
        "    count=0\n",
        "    stop_count=0\n",
        "    tepochs=0\n",
        "    def __init__(self,model, patience,stop_patience, threshold, factor, dwell, model_name, freeze,batches, initial_epoch):\n",
        "        super(LRA, self).__init__()\n",
        "        self.model=model\n",
        "        self.patience=patience # specifies how many epochs without improvement before learning rate is adjusted\n",
        "        self.stop_patience=stop_patience\n",
        "        self.threshold=threshold # specifies training accuracy threshold when lr will be adjusted based on validation loss\n",
        "        self.factor=factor # factor by which to reduce the learning rate\n",
        "        self.dwell=dwell\n",
        "        self.lr=float(tf.keras.backend.get_value(model.optimizer.lr)) # get the initiallearning rate and save it in self.lr\n",
        "        self.highest_tracc=0.0 # set highest training accuracy to 0\n",
        "        self.lowest_vloss=np.inf # set lowest validation loss to infinity\n",
        "        #self.count=0 # initialize counter that counts epochs with no improvement\n",
        "        #self.stop_count=0 # initialize counter that counts how manytimes lr has been adjustd with no improvement  \n",
        "        self.initial_epoch=initial_epoch \n",
        "        self.batches=batches\n",
        "        #self.epochs=epochs\n",
        "        best_weights=self.model.get_weights() # set a class vaiable so weights can be loaded after training is completed        \n",
        "        msg=' '\n",
        "        if freeze==True:\n",
        "            msgs=f' Starting training using  base model { model_name} with weights frozen to imagenet weights initializing LRA callback'\n",
        "        else:\n",
        "            msgs=f' Starting training using base model { model_name} training all layers '            \n",
        "        print_in_color (msgs, (244, 252, 3), (55,65,80)) \n",
        "    def on_train_begin(self, logs=None):\n",
        "        msg='{0:^8s}{1:^10s}{2:^9s}{3:^9s}{4:^9s}{5:^9s}{6:^9s}{7:^10s}{8:^8s}{9:^8s}'.format('Epoch', 'Loss', 'Accuracy',\n",
        "                                                                                              'V_loss','V_acc', 'LR', 'Next LR', 'Monitor', 'Duration', 'Batch')\n",
        "        print_in_color(msg, (244,252,3), (55,65,80)) \n",
        "        \n",
        "    def on_train_batch_begin(self, batch, logs=None):\n",
        "        msg='{0:83s}{1:4s}of {2:5s}'.format(' ', str(batch), str(self.batches))\n",
        "        print(msg, '\\r', end='') # prints over on the same line to show running batch count\n",
        "        \n",
        "        \n",
        "    def on_epoch_begin(self,epoch, logs=None):\n",
        "        self.now= time.time()\n",
        "        \n",
        "    def on_epoch_end(self, epoch, logs=None):  # method runs on the end of each epoch\n",
        "        later=time.time()\n",
        "        duration=later-self.now \n",
        "        lr=float(tf.keras.backend.get_value(self.model.optimizer.lr)) # get the current learning rate\n",
        "        current_lr=lr\n",
        "        v_loss=logs.get('val_loss')  # get the validation loss for this epoch\n",
        "        acc=logs.get('accuracy')  # get training accuracy \n",
        "        v_acc=logs.get('val_accuracy')\n",
        "        loss=logs.get('loss')\n",
        "        #print ( '\\n',v_loss, self.lowest_vloss, acc, self.highest_tracc)\n",
        "        if acc < self.threshold: # if training accuracy is below threshold adjust lr based on training accuracy\n",
        "            monitor='accuracy'\n",
        "            if acc>self.highest_tracc: # training accuracy improved in the epoch                \n",
        "                self.highest_tracc=acc # set new highest training accuracy\n",
        "                LRA.best_weights=self.model.get_weights() # traing accuracy improved so save the weights\n",
        "                self.count=0 # set count to 0 since training accuracy improved\n",
        "                self.stop_count=0 # set stop counter to 0\n",
        "                if v_loss<self.lowest_vloss:\n",
        "                    self.lowest_vloss=v_loss\n",
        "                color= (0,255,0)\n",
        "                self.lr=lr\n",
        "            else: \n",
        "                # training accuracy did not improve check if this has happened for patience number of epochs\n",
        "                # if so adjust learning rate\n",
        "                if self.count>=self.patience -1:\n",
        "                    color=(245, 170, 66)\n",
        "                    self.lr= lr* self.factor # adjust the learning by factor\n",
        "                    tf.keras.backend.set_value(self.model.optimizer.lr, self.lr) # set the learning rate in the optimizer\n",
        "                    self.count=0 # reset the count to 0\n",
        "                    self.stop_count=self.stop_count + 1\n",
        "                    if self.dwell:\n",
        "                        self.model.set_weights(LRA.best_weights) # return to better point in N space                        \n",
        "                    else:\n",
        "                        if v_loss<self.lowest_vloss:\n",
        "                            self.lowest_vloss=v_loss                                    \n",
        "                else:\n",
        "                    self.count=self.count +1 # increment patience counter                    \n",
        "        else: # training accuracy is above threshold so adjust learning rate based on validation loss\n",
        "            monitor='val_loss'\n",
        "            if v_loss< self.lowest_vloss: # check if the validation loss improved \n",
        "                self.lowest_vloss=v_loss # replace lowest validation loss with new validation loss                \n",
        "                LRA.best_weights=self.model.get_weights() # validation loss improved so save the weights\n",
        "                self.count=0 # reset count since validation loss improved  \n",
        "                self.stop_count=0  \n",
        "                color=(0,255,0)\n",
        "                self.lr=lr\n",
        "            else: # validation loss did not improve\n",
        "                if self.count>=self.patience-1:\n",
        "                    color=(245, 170, 66)\n",
        "                    self.lr=self.lr * self.factor # adjust the learning rate                    \n",
        "                    self.stop_count=self.stop_count + 1 # increment stop counter because lr was adjusted \n",
        "                    self.count=0 # reset counter\n",
        "                    tf.keras.backend.set_value(self.model.optimizer.lr, self.lr) # set the learning rate in the optimizer\n",
        "                    if self.dwell:\n",
        "                        self.model.set_weights(LRA.best_weights) # return to better point in N space\n",
        "                else: \n",
        "                    self.count =self.count +1 # increment the patience counter                    \n",
        "                if acc>self.highest_tracc:\n",
        "                    self.highest_tracc= acc\n",
        "        msg=f'{str(epoch+1):^3s}/{str(LRA.tepochs):4s} {loss:^9.3f}{acc*100:^9.3f}{v_loss:^9.5f}{v_acc*100:^9.3f}{current_lr:^9.5f}{self.lr:^9.5f}{monitor:^11s}{duration:^8.2f}'\n",
        "        print_in_color (msg,color, (55,65,80))\n",
        "        if self.stop_count> self.stop_patience - 1: # check if learning rate has been adjusted stop_count times with no improvement\n",
        "            msg=f' training has been halted at epoch {epoch + 1} after {self.stop_patience} adjustments of learning rate with no improvement'\n",
        "            print_in_color(msg, (0,255,0), (55,65,80))\n",
        "            self.model.stop_training = True # stop training"
      ],
      "execution_count": null,
      "outputs": []
    },
    {
      "cell_type": "markdown",
      "metadata": {
        "id": "44BEjl9TJm0x"
      },
      "source": [
        "For the training step, the initial learning rate is set to 3e-4, and the model will be trained to a max of 50 epochs. \n",
        "\n",
        "The **learning rate scheduler** will determine when to adjust the learning rate -- if the monitored value (accuracy or validation loss) does not improve, the learning rate is reduced by 50%. \n",
        "\n",
        "**Early stopping** is implemented in which training will be stopped if the monitored value does not improve for 5 epochs in a rwo."
      ]
    },
    {
      "cell_type": "code",
      "metadata": {
        "colab": {
          "base_uri": "https://localhost:8080/"
        },
        "id": "4r-Bux2NQXo0",
        "outputId": "42a754cb-3579-48fe-a6bd-914c73d54179"
      },
      "source": [
        "epochs = 50\n",
        "patience = 1    # number of epochs to wait to adjust lr if monitored value does not improve\n",
        "stop_patience = 5 # number of epochs to wait before stopping training if monitored value does not improve\n",
        "threshold = .85  # if train accuracy is < threshhold adjust monitor accuracy, else monitor validation loss\n",
        "factor = .5    # factor to reduce lr by\n",
        "dwell = True    # experimental, if True and monitored metric does not improve on current epoch set model weights back to weights of previous epoch\n",
        "freeze = False   # if true free weights of  the base model\n",
        "batches = train_steps\n",
        "\n",
        "callbacks = [LRA(model = model, patience = patience, stop_patience = stop_patience,\n",
        "         threshold = threshold, factor = factor, dwell = dwell, \n",
        "         model_name = model_name, freeze = freeze, \n",
        "         batches = batches, initial_epoch =0)]\n",
        "LRA.tepochs = epochs  # used to determine value of last epoch for printing\n",
        "\n",
        "# Train the model\n",
        "history = model.fit(x = train_gen,  epochs = epochs, verbose = 0, \n",
        "           callbacks = callbacks, validation_data = valid_gen,\n",
        "           validation_steps = None, shuffle = False, initial_epoch = 0,\n",
        "           class_weight = class_weight)"
      ],
      "execution_count": null,
      "outputs": [
        {
          "output_type": "stream",
          "name": "stdout",
          "text": [
            "\u001b[38;2;244;252;3;48;2;55;65;80m Starting training using base model InceptionResNetV2 training all layers \n",
            "\u001b[0m\n",
            "\u001b[38;2;244;252;3;48;2;55;65;80m Epoch     Loss   Accuracy  V_loss    V_acc     LR     Next LR  Monitor  Duration Batch  \n",
            "\u001b[0m\n",
            "\u001b[38;2;0;255;0;48;2;55;65;80m 1 /50     8.081   67.770   9.59665  50.000   0.00030  0.00030  accuracy   47.30  \n",
            "\u001b[0m\n",
            "\u001b[38;2;0;255;0;48;2;55;65;80m 2 /50     6.678   85.811   7.22785  55.263   0.00030  0.00030  val_loss   22.03  \n",
            "\u001b[0m\n",
            "\u001b[38;2;0;255;0;48;2;55;65;80m 3 /50     5.612   94.459   7.15650  55.263   0.00030  0.00030  val_loss   22.18  \n",
            "\u001b[0m\n",
            "\u001b[38;2;0;255;0;48;2;55;65;80m 4 /50     4.865   97.162   6.15374  55.263   0.00030  0.00030  val_loss   22.01  \n",
            "\u001b[0m\n",
            "\u001b[38;2;0;255;0;48;2;55;65;80m 5 /50     4.252   98.243   5.32535  55.263   0.00030  0.00030  val_loss   22.07  \n",
            "\u001b[0m\n",
            "\u001b[38;2;0;255;0;48;2;55;65;80m 6 /50     3.784   97.635   4.46997  63.158   0.00030  0.00030  val_loss   22.04  \n",
            "\u001b[0m\n",
            "\u001b[38;2;0;255;0;48;2;55;65;80m 7 /50     3.388   98.649   4.46701  57.895   0.00030  0.00030  val_loss   22.16  \n",
            "\u001b[0m\n",
            "\u001b[38;2;0;255;0;48;2;55;65;80m 8 /50     3.053   98.311   4.27063  68.421   0.00030  0.00030  val_loss   22.22  \n",
            "\u001b[0m\n",
            "\u001b[38;2;0;255;0;48;2;55;65;80m 9 /50     2.730   97.838   4.18069  84.211   0.00030  0.00030  val_loss   22.16  \n",
            "\u001b[0m\n",
            "\u001b[38;2;0;255;0;48;2;55;65;80m10 /50     2.513   97.230   2.53922  89.474   0.00030  0.00030  val_loss   22.15  \n",
            "\u001b[0m\n",
            "\u001b[38;2;0;255;0;48;2;55;65;80m11 /50     2.167   98.446   2.20555  92.105   0.00030  0.00030  val_loss   22.02  \n",
            "\u001b[0m\n",
            "\u001b[38;2;245;170;66;48;2;55;65;80m12 /50     1.982   97.432   2.96251  84.211   0.00030  0.00015  val_loss   22.19  \n",
            "\u001b[0m\n",
            "\u001b[38;2;0;255;0;48;2;55;65;80m13 /50     1.956   98.581   2.17724  89.474   0.00015  0.00015  val_loss   22.20  \n",
            "\u001b[0m\n",
            "\u001b[38;2;245;170;66;48;2;55;65;80m14 /50     1.808   99.189   2.18473  89.474   0.00015  0.00008  val_loss   22.10  \n",
            "\u001b[0m\n",
            "\u001b[38;2;0;255;0;48;2;55;65;80m15 /50     1.839   98.851   2.02511  92.105   0.00008  0.00008  val_loss   22.11  \n",
            "\u001b[0m\n",
            "\u001b[38;2;0;255;0;48;2;55;65;80m16 /50     1.777   98.649   1.95072  92.105   0.00008  0.00008  val_loss   22.19  \n",
            "\u001b[0m\n",
            "\u001b[38;2;245;170;66;48;2;55;65;80m17 /50     1.719   99.122   2.05992  89.474   0.00008  0.00004  val_loss   22.24  \n",
            "\u001b[0m\n",
            "\u001b[38;2;245;170;66;48;2;55;65;80m18 /50     1.727   99.122   2.48463  89.474   0.00004  0.00002  val_loss   22.25  \n",
            "\u001b[0m\n",
            "\u001b[38;2;245;170;66;48;2;55;65;80m19 /50     1.736   99.054   2.13656  89.474   0.00002  0.00001  val_loss   22.25  \n",
            "\u001b[0m\n",
            "\u001b[38;2;245;170;66;48;2;55;65;80m20 /50     1.742   99.122   1.96269  89.474   0.00001  0.00000  val_loss   22.06  \n",
            "\u001b[0m\n",
            "\u001b[38;2;245;170;66;48;2;55;65;80m21 /50     1.740   98.986   2.32003  89.474   0.00000  0.00000  val_loss   22.29  \n",
            "\u001b[0m\n",
            "\u001b[38;2;0;255;0;48;2;55;65;80m training has been halted at epoch 21 after 5 adjustments of learning rate with no improvement\n",
            "\u001b[0m\n"
          ]
        }
      ]
    },
    {
      "cell_type": "code",
      "metadata": {
        "id": "9XnRdsaqQbGV"
      },
      "source": [
        "def tr_plot(tr_data, start_epoch):\n",
        "    #Plot the training and validation data\n",
        "    tacc=tr_data.history['accuracy']\n",
        "    tloss=tr_data.history['loss']\n",
        "    vacc=tr_data.history['val_accuracy']\n",
        "    vloss=tr_data.history['val_loss']\n",
        "    Epoch_count=len(tacc)+ start_epoch\n",
        "    Epochs=[]\n",
        "    for i in range (start_epoch ,Epoch_count):\n",
        "        Epochs.append(i+1)   \n",
        "    index_loss=np.argmin(vloss)#  this is the epoch with the lowest validation loss\n",
        "    val_lowest=vloss[index_loss]\n",
        "    index_acc=np.argmax(vacc)\n",
        "    acc_highest=vacc[index_acc]\n",
        "    plt.style.use('fivethirtyeight')\n",
        "    sc_label='best epoch= '+ str(index_loss+1 +start_epoch)\n",
        "    vc_label='best epoch= '+ str(index_acc + 1+ start_epoch)\n",
        "    fig,axes=plt.subplots(nrows=1, ncols=2, figsize=(20,8))\n",
        "    axes[0].plot(Epochs,tloss, 'r', label='Training loss')\n",
        "    axes[0].plot(Epochs,vloss,'g',label='Validation loss' )\n",
        "    axes[0].scatter(index_loss+1 +start_epoch,val_lowest, s=150, c= 'blue', label=sc_label)\n",
        "    axes[0].set_title('Training and Validation Loss')\n",
        "    axes[0].set_xlabel('Epochs')\n",
        "    axes[0].set_ylabel('Loss')\n",
        "    axes[0].legend()\n",
        "    axes[1].plot (Epochs,tacc,'r',label= 'Training Accuracy')\n",
        "    axes[1].plot (Epochs,vacc,'g',label= 'Validation Accuracy')\n",
        "    axes[1].scatter(index_acc+1 +start_epoch,acc_highest, s=150, c= 'blue', label=vc_label)\n",
        "    axes[1].set_title('Training and Validation Accuracy')\n",
        "    axes[1].set_xlabel('Epochs')\n",
        "    axes[1].set_ylabel('Accuracy')\n",
        "    axes[1].legend()\n",
        "    plt.tight_layout\n",
        "    #plt.style.use('fivethirtyeight')\n",
        "    plt.show()"
      ],
      "execution_count": null,
      "outputs": []
    },
    {
      "cell_type": "code",
      "metadata": {
        "id": "s57c83XLRnfU",
        "colab": {
          "base_uri": "https://localhost:8080/",
          "height": 530
        },
        "outputId": "84f8f8cb-301a-49c1-de27-b0c3d5468ada"
      },
      "source": [
        "tr_plot(history,0)\n",
        "save_dir = r'./'\n",
        "subject = 'label'\n",
        "acc = model.evaluate(test_gen, batch_size=test_batch_size, verbose=1, steps=test_steps, return_dict=False)[1]*100\n",
        "msg = f'Accuracy on the test set: {acc:5.2f} %'\n",
        "print_in_color(msg, (0,255,0),(55,65,80))\n",
        "save_id = str(model_name +  '-' + subject +'-'+ str(acc)[:str(acc).rfind('.')+3] + '.h5')\n",
        "save_loc = os.path.join(save_dir, save_id)\n",
        "model.save(save_loc)"
      ],
      "execution_count": null,
      "outputs": [
        {
          "output_type": "display_data",
          "data": {
            "image/png": "[encoded data removed]",
            "text/plain": [
              "<Figure size 1440x576 with 2 Axes>"
            ]
          },
          "metadata": {}
        },
        {
          "output_type": "stream",
          "name": "stdout",
          "text": [
            "1/1 [==============================] - 0s 322ms/step - loss: 3.1263 - accuracy: 0.8378\n",
            "\u001b[38;2;0;255;0;48;2;55;65;80mAccuracy on the test set: 83.78 %\n",
            "\u001b[0m\n"
          ]
        }
      ]
    },
    {
      "cell_type": "markdown",
      "metadata": {
        "id": "gaFnUvi7OG2J"
      },
      "source": [
        "The model training is stopped after 21 epochs as the validation loss is not improving. From the plot of the training history, I'm a little suspecting that the model is over-fitting to the training data.\n",
        "\n",
        "We can observe that the training accuracy increases rapidly after the 2nd epoch and stayed around 98~99% or higher. On the other hand, the validation accuracy started out at 50% and peaked around 92% while the validation loss continue to decrease."
      ]
    },
    {
      "cell_type": "markdown",
      "metadata": {
        "id": "9h1BpimPHVOy"
      },
      "source": [
        "#### Model Evaluation\n",
        "After training, we can evaluate the model performance on the testing set."
      ]
    },
    {
      "cell_type": "code",
      "metadata": {
        "id": "D8fHWyIPRlPm"
      },
      "source": [
        "def print_info( test_gen, preds, print_code, save_dir, subject ):\n",
        "    class_dict=test_gen.class_indices\n",
        "    labels= test_gen.labels\n",
        "    file_names= test_gen.filenames \n",
        "    error_list=[]\n",
        "    true_class=[]\n",
        "    pred_class=[]\n",
        "    prob_list=[]\n",
        "    new_dict={}\n",
        "    error_indices=[]\n",
        "    y_pred=[]\n",
        "    for key,value in class_dict.items():\n",
        "        new_dict[value]=key             # dictionary {integer of class number: string of class name}\n",
        "    # store new_dict as a text fine in the save_dir\n",
        "    classes=list(new_dict.values())     # list of string of class names\n",
        "    dict_as_text=str(new_dict)\n",
        "    dict_name= subject + '-' +str(len(classes)) +'.txt'  \n",
        "    dict_path=os.path.join(save_dir,dict_name)    \n",
        "    with open(dict_path, 'w') as x_file:\n",
        "        x_file.write(dict_as_text)    \n",
        "    errors=0      \n",
        "    for i, p in enumerate(preds):\n",
        "        pred_index=np.argmax(p)        \n",
        "        true_index=labels[i]  # labels are integer values\n",
        "        if pred_index != true_index: # a misclassification has occurred\n",
        "            error_list.append(file_names[i])\n",
        "            true_class.append(new_dict[true_index])\n",
        "            pred_class.append(new_dict[pred_index])\n",
        "            prob_list.append(p[pred_index])\n",
        "            error_indices.append(true_index)            \n",
        "            errors=errors + 1\n",
        "            split1=os.path.split(file_names[i])                \n",
        "            split2=os.path.split(split1[0])                \n",
        "            fname=split2[1] + '/' + split1[1]\n",
        "            shutil.copy(file_names[i], os.path.join(\"mispred_aug\", fname))\n",
        "        y_pred.append(pred_index)    \n",
        "    if print_code !=0:\n",
        "        if errors>0:\n",
        "            if print_code>errors:\n",
        "                r=errors\n",
        "            else:\n",
        "                r=print_code           \n",
        "            msg='{0:^28s}{1:^28s}{2:^28s}{3:^16s}'.format('Filename', 'Predicted Class' , 'True Class', 'Probability')\n",
        "            print_in_color(msg, (0,255,0),(55,65,80))\n",
        "            for i in range(r):                \n",
        "                split1=os.path.split(error_list[i])                \n",
        "                split2=os.path.split(split1[0])                \n",
        "                fname=split2[1] + '/' + split1[1]\n",
        "                msg='{0:^28s}{1:^28s}{2:^28s}{3:4s}{4:^6.4f}'.format(fname, pred_class[i],true_class[i], ' ', prob_list[i])\n",
        "                print_in_color(msg, (255,255,255), (55,65,60))\n",
        "                #print(error_list[i]  , pred_class[i], true_class[i], prob_list[i])               \n",
        "        else:\n",
        "            msg='With accuracy of 100 % there are no errors to print'\n",
        "            print_in_color(msg, (0,255,0),(55,65,80))\n",
        "    if errors > 0:\n",
        "        plot_bar = []\n",
        "        plot_class = []\n",
        "        for  key, value in new_dict.items():        \n",
        "            count = error_indices.count(key) \n",
        "            if count != 0:\n",
        "                plot_bar.append(count) # list containg how many times a class c had an error\n",
        "                plot_class.append(value)   # stores the class \n",
        "        fig = plt.figure()\n",
        "        fig.set_figheight(len(plot_class)/3)\n",
        "        fig.set_figwidth(10)\n",
        "        plt.style.use('fivethirtyeight')\n",
        "        for i in range(0, len(plot_class)):\n",
        "            c = plot_class[i]\n",
        "            x = plot_bar[i]\n",
        "            plt.barh(c, x, )\n",
        "            plt.title('Errors by Class on Test Set')\n",
        "    y_true = np.array(labels)        \n",
        "    y_pred = np.array(y_pred)\n",
        "    if len(classes) <= 30:\n",
        "        # create a confusion matrix \n",
        "        cm = confusion_matrix(y_true, y_pred )        \n",
        "        length=len(classes)\n",
        "        if length<8:\n",
        "            fig_width = 8\n",
        "            fig_height = 8\n",
        "        else:\n",
        "            fig_width = int(length * .5)\n",
        "            fig_height = int(length * .5)\n",
        "        plt.figure(figsize=(fig_width, fig_height))\n",
        "        sns.heatmap(cm, annot=True, vmin = 0, fmt = 'g', cmap = 'Blues', cbar = False)       \n",
        "        plt.xticks(np.arange(length)+.5, classes, rotation= 90)\n",
        "        plt.yticks(np.arange(length)+.5, classes, rotation=0)\n",
        "        plt.xlabel(\"Predicted\")\n",
        "        plt.ylabel(\"Actual\")\n",
        "        plt.title(\"Confusion Matrix\")\n",
        "        plt.show()\n",
        "    clr = classification_report(y_true, y_pred, target_names=classes)\n",
        "    print(\"Classification Report:\\n----------------------\\n\", clr)"
      ],
      "execution_count": null,
      "outputs": []
    },
    {
      "cell_type": "code",
      "metadata": {
        "id": "4IYSEyf1RpLP"
      },
      "source": [
        "print_code = 50\n",
        "preds = model.predict(test_gen) "
      ],
      "execution_count": null,
      "outputs": []
    },
    {
      "cell_type": "code",
      "metadata": {
        "id": "E-rg-9PjRv8J",
        "colab": {
          "base_uri": "https://localhost:8080/",
          "height": 1000
        },
        "outputId": "862d867f-57e4-4690-89d8-16d88b457cce"
      },
      "source": [
        "print_info(test_gen, preds, print_code, save_dir, subject)"
      ],
      "execution_count": null,
      "outputs": [
        {
          "output_type": "stream",
          "name": "stdout",
          "text": [
            "\u001b[38;2;0;255;0;48;2;55;65;80m          Filename                Predicted Class                True Class           Probability   \n",
            "\u001b[0m\n",
            "\u001b[38;2;255;255;255;48;2;55;65;60m  OK/TW1YX13604131-143.jpg               NG                          OK                 1.0000\n",
            "\u001b[0m\n",
            "\u001b[38;2;255;255;255;48;2;55;65;60m NG/TW1YX13607960-1244.jpg               OK                          NG                 0.8846\n",
            "\u001b[0m\n",
            "\u001b[38;2;255;255;255;48;2;55;65;60m    OK/TW1YX13606107.jpg                 NG                          OK                 0.9941\n",
            "\u001b[0m\n",
            "\u001b[38;2;255;255;255;48;2;55;65;60m OK/TW1YX13703125-2232.jpg               NG                          OK                 0.7942\n",
            "\u001b[0m\n",
            "\u001b[38;2;255;255;255;48;2;55;65;60m NG/TW1YX13607992-1279.jpg               OK                          NG                 0.5484\n",
            "\u001b[0m\n"
          ]
        },
        {
          "output_type": "display_data",
          "data": {
            "image/png": "[encoded data removed]",
            "text/plain": [
              "<Figure size 720x48 with 1 Axes>"
            ]
          },
          "metadata": {}
        },
        {
          "output_type": "display_data",
          "data": {
            "image/png": "[encoded data removed]",
            "text/plain": [
              "<Figure size 576x576 with 1 Axes>"
            ]
          },
          "metadata": {}
        },
        {
          "output_type": "stream",
          "name": "stdout",
          "text": [
            "Classification Report:\n",
            "----------------------\n",
            "               precision    recall  f1-score   support\n",
            "\n",
            "          NG       0.83      0.88      0.86        17\n",
            "          OK       0.89      0.85      0.87        20\n",
            "\n",
            "    accuracy                           0.86        37\n",
            "   macro avg       0.86      0.87      0.86        37\n",
            "weighted avg       0.87      0.86      0.87        37\n",
            "\n"
          ]
        }
      ]
    },
    {
      "cell_type": "markdown",
      "metadata": {
        "id": "M486unnnPU0g"
      },
      "source": [
        "Based on the prediction matrix, we can see that the model is able to accurately classify 15 NG images and 17 OK images. 2 NG images are missed, and 3 OK images are mis-classified as NG."
      ]
    },
    {
      "cell_type": "code",
      "metadata": {
        "colab": {
          "base_uri": "https://localhost:8080/",
          "height": 277
        },
        "id": "ezQxIDMRM64z",
        "outputId": "d95d4ba6-bcf2-4a78-c573-4335ac78cfae"
      },
      "source": [
        "# Mis-classified NG as OK\n",
        "filename=os.path.join('mispred_aug', 'NG', 'TW1YX13607960-1244.jpg')\n",
        "Image(filename=filename)"
      ],
      "execution_count": null,
      "outputs": [
        {
          "output_type": "execute_result",
          "data": {
            "image/jpeg": "[encoded data removed]",
            "text/plain": [
              "<IPython.core.display.Image object>"
            ]
          },
          "metadata": {},
          "execution_count": 38
        }
      ]
    },
    {
      "cell_type": "code",
      "metadata": {
        "colab": {
          "base_uri": "https://localhost:8080/",
          "height": 277
        },
        "id": "U_naP108UwwR",
        "outputId": "335f8c79-c682-4fbd-f0e5-350df8852b0c"
      },
      "source": [
        "# Mis-classified NG as OK\n",
        "filename=os.path.join('mispred_aug', 'NG', 'TW1YX13607992-1279.jpg')\n",
        "Image(filename=filename)"
      ],
      "execution_count": null,
      "outputs": [
        {
          "output_type": "execute_result",
          "data": {
            "image/jpeg": "[encoded data removed]",
            "text/plain": [
              "<IPython.core.display.Image object>"
            ]
          },
          "metadata": {},
          "execution_count": 39
        }
      ]
    },
    {
      "cell_type": "markdown",
      "metadata": {
        "id": "FSyCxuD8VsNS"
      },
      "source": [
        "The 2 missed NG images can be viewed as difficult samples in the dataset because they only have very small defects in characters. In the 1st image, there is only a small part of the 'R' letter missing; in the 2nd image, part of the 'T' and 'R' letters cut off.\n",
        "\n",
        "In overall, this baseline model achieves an accuracy of 86% on the testing set, which isn't exactly ideal in tackling difficult cases like the 2 missed images.\n",
        "\n",
        "It is possible that the input size of 128 by 128 may have caused some loss of information when the original input image is resized. For instance, the missing part of 'R' might not be significant and obvious after the resize. In such case, a bigger input size may resolve the issue.\n",
        "\n",
        "However, for the future experiments, I might want to try the typical defect detection structure of a detector plus classifier instead. Often in times a defect label can have multiple types of defects. Being able to collect such information may help with improving the label printing step and solving root causes of these label defects in the production process."
      ]
    }
  ]
}